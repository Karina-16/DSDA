{
 "cells": [
  {
   "cell_type": "markdown",
   "id": "d2cd08b1",
   "metadata": {},
   "source": [
    "# Hyperthyroid Disorders Prediction"
   ]
  },
  {
   "cell_type": "markdown",
   "id": "2c54c181",
   "metadata": {},
   "source": [
    "# Introducation:"
   ]
  },
  {
   "cell_type": "markdown",
   "id": "8464a8c3",
   "metadata": {},
   "source": [
    "             Hypothyroidism is a condition where the thyroid gland doesn't produce enough hormones, leading to symptoms like fatigue, weight gain, and depression.To improve diagnosis, this project develops a  machine learning model using patient data such as age, sex, medical history, and specific thyroid-related measurements like TSH and T3 levels. \n",
    "               By training and evaluating various models, we aim to predict hypothyroidism more accurately and efficiently, helping doctors provide better patient care.\n"
   ]
  },
  {
   "cell_type": "markdown",
   "id": "f3cac9ee",
   "metadata": {},
   "source": [
    "# Description"
   ]
  },
  {
   "cell_type": "markdown",
   "id": "17394c73",
   "metadata": {},
   "source": [
    "                     In this notebook, we are going to predict diagnose thyroid disorders using patient data such as medical history, lab test results, and demographic information etc\n",
    "                     The dataset we are going to use is the Thyroid disorder predication dataset from Kaggle which contains about 3772 rows × 30 columns features.\n",
    "                     The dataset contains the labels which we have to predict and the labels are discrete and binary. So the problem we have is a Supervised Classification type."
   ]
  },
  {
   "cell_type": "markdown",
   "id": "e267f55c",
   "metadata": {},
   "source": [
    "# Motivation"
   ]
  },
  {
   "cell_type": "markdown",
   "id": "247e019d",
   "metadata": {},
   "source": [
    "                  Hypothyroidism can be hard to diagnose early because its symptoms are common in many other conditions. Traditional diagnosis methods are often slow and expensive. By using machine learning, we can quickly analyze patient data to predict hypothyroidism more accurately. \n",
    "                        This project aims to improve early detection and treatment, ultimately enhancing patient outcomes and making healthcare more efficient.\n"
   ]
  },
  {
   "cell_type": "markdown",
   "id": "5baf7021",
   "metadata": {},
   "source": [
    "# Column Description"
   ]
  },
  {
   "cell_type": "raw",
   "id": "18dd83ef",
   "metadata": {},
   "source": [
    "age:                              Age of the patient.\n",
    "sex:                              Gender of the patient ('M' for male, 'F' for female).\n",
    "on thyroxine:                     Whether the patient is currently on thyroxine treatment.\n",
    "query on thyroxine:               If there is a query about the patient being on thyroxine.\n",
    "on antithyroid medication:        If the patient is on medication to suppress thyroid function.\n",
    "sick:                             If the patient is currently sick with another illness.\n",
    "pregnant:                         If the patient is pregnant.\n",
    "thyroid surgery:                  If the patient has undergone thyroid surgery.\n",
    "I131 treatment:                   If the patient has been treated with radioactive iodine (I-131).\n",
    "query hypothyroid:                If there is a suspicion of the patient having hypothyroidism.\n",
    "query hyperthyroid:               If there is a suspicion of the patient having hyperthyroidism.\n",
    "lithium:                          If the patient is taking lithium.\n",
    "goitre:                           If the patient has a goitre.\n",
    "tumor:                            If the patient has a tumor.\n",
    "hypopituitary:                    If the patient has hypopituitarism.\n",
    "psych:                            If the patient has psychological conditions or is on psychiatric treatment.\n",
    "TSH:                              The TSH measurement value.\n",
    "T3 measured:                      If the T3 level was measured.\n",
    "T3:                               The T3 measurement value.\n",
    "TT4:                              The TT4 measurement value.\n",
    "T4U:                              The T4U measurement value.\n",
    "FTI:                              The FTI measurement value.\n",
    "binaryClass:                      The target variable indicating hypothyroidism ('yes' or 'no')."
   ]
  },
  {
   "cell_type": "markdown",
   "id": "dac21851",
   "metadata": {},
   "source": [
    "# Import Libraries"
   ]
  },
  {
   "cell_type": "code",
   "execution_count": 1,
   "id": "e7a306a8",
   "metadata": {},
   "outputs": [],
   "source": [
    "import numpy as np  \n",
    "import pandas as pd \n",
    "import matplotlib.pyplot as plt\n",
    "import seaborn as sns\n",
    "\n",
    "import warnings\n",
    "warnings.filterwarnings(\"ignore\")"
   ]
  },
  {
   "cell_type": "markdown",
   "id": "6c56dd55",
   "metadata": {},
   "source": [
    "# Importing Dataset"
   ]
  },
  {
   "cell_type": "code",
   "execution_count": 2,
   "id": "e0837bc3",
   "metadata": {},
   "outputs": [
    {
     "data": {
      "text/html": [
       "<div>\n",
       "<style scoped>\n",
       "    .dataframe tbody tr th:only-of-type {\n",
       "        vertical-align: middle;\n",
       "    }\n",
       "\n",
       "    .dataframe tbody tr th {\n",
       "        vertical-align: top;\n",
       "    }\n",
       "\n",
       "    .dataframe thead th {\n",
       "        text-align: right;\n",
       "    }\n",
       "</style>\n",
       "<table border=\"1\" class=\"dataframe\">\n",
       "  <thead>\n",
       "    <tr style=\"text-align: right;\">\n",
       "      <th></th>\n",
       "      <th>age</th>\n",
       "      <th>sex</th>\n",
       "      <th>on thyroxine</th>\n",
       "      <th>query on thyroxine</th>\n",
       "      <th>on antithyroid medication</th>\n",
       "      <th>sick</th>\n",
       "      <th>pregnant</th>\n",
       "      <th>thyroid surgery</th>\n",
       "      <th>I131 treatment</th>\n",
       "      <th>query hypothyroid</th>\n",
       "      <th>...</th>\n",
       "      <th>TT4 measured</th>\n",
       "      <th>TT4</th>\n",
       "      <th>T4U measured</th>\n",
       "      <th>T4U</th>\n",
       "      <th>FTI measured</th>\n",
       "      <th>FTI</th>\n",
       "      <th>TBG measured</th>\n",
       "      <th>TBG</th>\n",
       "      <th>referral source</th>\n",
       "      <th>binaryClass</th>\n",
       "    </tr>\n",
       "  </thead>\n",
       "  <tbody>\n",
       "    <tr>\n",
       "      <th>0</th>\n",
       "      <td>41</td>\n",
       "      <td>F</td>\n",
       "      <td>f</td>\n",
       "      <td>f</td>\n",
       "      <td>f</td>\n",
       "      <td>f</td>\n",
       "      <td>f</td>\n",
       "      <td>f</td>\n",
       "      <td>f</td>\n",
       "      <td>f</td>\n",
       "      <td>...</td>\n",
       "      <td>t</td>\n",
       "      <td>125</td>\n",
       "      <td>t</td>\n",
       "      <td>1.14</td>\n",
       "      <td>t</td>\n",
       "      <td>109</td>\n",
       "      <td>f</td>\n",
       "      <td>?</td>\n",
       "      <td>SVHC</td>\n",
       "      <td>P</td>\n",
       "    </tr>\n",
       "    <tr>\n",
       "      <th>1</th>\n",
       "      <td>23</td>\n",
       "      <td>F</td>\n",
       "      <td>f</td>\n",
       "      <td>f</td>\n",
       "      <td>f</td>\n",
       "      <td>f</td>\n",
       "      <td>f</td>\n",
       "      <td>f</td>\n",
       "      <td>f</td>\n",
       "      <td>f</td>\n",
       "      <td>...</td>\n",
       "      <td>t</td>\n",
       "      <td>102</td>\n",
       "      <td>f</td>\n",
       "      <td>?</td>\n",
       "      <td>f</td>\n",
       "      <td>?</td>\n",
       "      <td>f</td>\n",
       "      <td>?</td>\n",
       "      <td>other</td>\n",
       "      <td>P</td>\n",
       "    </tr>\n",
       "    <tr>\n",
       "      <th>2</th>\n",
       "      <td>46</td>\n",
       "      <td>M</td>\n",
       "      <td>f</td>\n",
       "      <td>f</td>\n",
       "      <td>f</td>\n",
       "      <td>f</td>\n",
       "      <td>f</td>\n",
       "      <td>f</td>\n",
       "      <td>f</td>\n",
       "      <td>f</td>\n",
       "      <td>...</td>\n",
       "      <td>t</td>\n",
       "      <td>109</td>\n",
       "      <td>t</td>\n",
       "      <td>0.91</td>\n",
       "      <td>t</td>\n",
       "      <td>120</td>\n",
       "      <td>f</td>\n",
       "      <td>?</td>\n",
       "      <td>other</td>\n",
       "      <td>P</td>\n",
       "    </tr>\n",
       "    <tr>\n",
       "      <th>3</th>\n",
       "      <td>70</td>\n",
       "      <td>F</td>\n",
       "      <td>t</td>\n",
       "      <td>f</td>\n",
       "      <td>f</td>\n",
       "      <td>f</td>\n",
       "      <td>f</td>\n",
       "      <td>f</td>\n",
       "      <td>f</td>\n",
       "      <td>f</td>\n",
       "      <td>...</td>\n",
       "      <td>t</td>\n",
       "      <td>175</td>\n",
       "      <td>f</td>\n",
       "      <td>?</td>\n",
       "      <td>f</td>\n",
       "      <td>?</td>\n",
       "      <td>f</td>\n",
       "      <td>?</td>\n",
       "      <td>other</td>\n",
       "      <td>P</td>\n",
       "    </tr>\n",
       "    <tr>\n",
       "      <th>4</th>\n",
       "      <td>70</td>\n",
       "      <td>F</td>\n",
       "      <td>f</td>\n",
       "      <td>f</td>\n",
       "      <td>f</td>\n",
       "      <td>f</td>\n",
       "      <td>f</td>\n",
       "      <td>f</td>\n",
       "      <td>f</td>\n",
       "      <td>f</td>\n",
       "      <td>...</td>\n",
       "      <td>t</td>\n",
       "      <td>61</td>\n",
       "      <td>t</td>\n",
       "      <td>0.87</td>\n",
       "      <td>t</td>\n",
       "      <td>70</td>\n",
       "      <td>f</td>\n",
       "      <td>?</td>\n",
       "      <td>SVI</td>\n",
       "      <td>P</td>\n",
       "    </tr>\n",
       "    <tr>\n",
       "      <th>...</th>\n",
       "      <td>...</td>\n",
       "      <td>...</td>\n",
       "      <td>...</td>\n",
       "      <td>...</td>\n",
       "      <td>...</td>\n",
       "      <td>...</td>\n",
       "      <td>...</td>\n",
       "      <td>...</td>\n",
       "      <td>...</td>\n",
       "      <td>...</td>\n",
       "      <td>...</td>\n",
       "      <td>...</td>\n",
       "      <td>...</td>\n",
       "      <td>...</td>\n",
       "      <td>...</td>\n",
       "      <td>...</td>\n",
       "      <td>...</td>\n",
       "      <td>...</td>\n",
       "      <td>...</td>\n",
       "      <td>...</td>\n",
       "      <td>...</td>\n",
       "    </tr>\n",
       "    <tr>\n",
       "      <th>3767</th>\n",
       "      <td>30</td>\n",
       "      <td>F</td>\n",
       "      <td>f</td>\n",
       "      <td>f</td>\n",
       "      <td>f</td>\n",
       "      <td>f</td>\n",
       "      <td>f</td>\n",
       "      <td>f</td>\n",
       "      <td>f</td>\n",
       "      <td>f</td>\n",
       "      <td>...</td>\n",
       "      <td>f</td>\n",
       "      <td>?</td>\n",
       "      <td>f</td>\n",
       "      <td>?</td>\n",
       "      <td>f</td>\n",
       "      <td>?</td>\n",
       "      <td>f</td>\n",
       "      <td>?</td>\n",
       "      <td>other</td>\n",
       "      <td>P</td>\n",
       "    </tr>\n",
       "    <tr>\n",
       "      <th>3768</th>\n",
       "      <td>68</td>\n",
       "      <td>F</td>\n",
       "      <td>f</td>\n",
       "      <td>f</td>\n",
       "      <td>f</td>\n",
       "      <td>f</td>\n",
       "      <td>f</td>\n",
       "      <td>f</td>\n",
       "      <td>f</td>\n",
       "      <td>f</td>\n",
       "      <td>...</td>\n",
       "      <td>t</td>\n",
       "      <td>124</td>\n",
       "      <td>t</td>\n",
       "      <td>1.08</td>\n",
       "      <td>t</td>\n",
       "      <td>114</td>\n",
       "      <td>f</td>\n",
       "      <td>?</td>\n",
       "      <td>SVI</td>\n",
       "      <td>P</td>\n",
       "    </tr>\n",
       "    <tr>\n",
       "      <th>3769</th>\n",
       "      <td>74</td>\n",
       "      <td>F</td>\n",
       "      <td>f</td>\n",
       "      <td>f</td>\n",
       "      <td>f</td>\n",
       "      <td>f</td>\n",
       "      <td>f</td>\n",
       "      <td>f</td>\n",
       "      <td>f</td>\n",
       "      <td>f</td>\n",
       "      <td>...</td>\n",
       "      <td>t</td>\n",
       "      <td>112</td>\n",
       "      <td>t</td>\n",
       "      <td>1.07</td>\n",
       "      <td>t</td>\n",
       "      <td>105</td>\n",
       "      <td>f</td>\n",
       "      <td>?</td>\n",
       "      <td>other</td>\n",
       "      <td>P</td>\n",
       "    </tr>\n",
       "    <tr>\n",
       "      <th>3770</th>\n",
       "      <td>72</td>\n",
       "      <td>M</td>\n",
       "      <td>f</td>\n",
       "      <td>f</td>\n",
       "      <td>f</td>\n",
       "      <td>f</td>\n",
       "      <td>f</td>\n",
       "      <td>f</td>\n",
       "      <td>f</td>\n",
       "      <td>f</td>\n",
       "      <td>...</td>\n",
       "      <td>t</td>\n",
       "      <td>82</td>\n",
       "      <td>t</td>\n",
       "      <td>0.94</td>\n",
       "      <td>t</td>\n",
       "      <td>87</td>\n",
       "      <td>f</td>\n",
       "      <td>?</td>\n",
       "      <td>SVI</td>\n",
       "      <td>P</td>\n",
       "    </tr>\n",
       "    <tr>\n",
       "      <th>3771</th>\n",
       "      <td>64</td>\n",
       "      <td>F</td>\n",
       "      <td>f</td>\n",
       "      <td>f</td>\n",
       "      <td>f</td>\n",
       "      <td>f</td>\n",
       "      <td>f</td>\n",
       "      <td>f</td>\n",
       "      <td>f</td>\n",
       "      <td>f</td>\n",
       "      <td>...</td>\n",
       "      <td>t</td>\n",
       "      <td>99</td>\n",
       "      <td>t</td>\n",
       "      <td>1.07</td>\n",
       "      <td>t</td>\n",
       "      <td>92</td>\n",
       "      <td>f</td>\n",
       "      <td>?</td>\n",
       "      <td>other</td>\n",
       "      <td>P</td>\n",
       "    </tr>\n",
       "  </tbody>\n",
       "</table>\n",
       "<p>3772 rows × 30 columns</p>\n",
       "</div>"
      ],
      "text/plain": [
       "     age sex on thyroxine query on thyroxine on antithyroid medication sick  \\\n",
       "0     41   F            f                  f                         f    f   \n",
       "1     23   F            f                  f                         f    f   \n",
       "2     46   M            f                  f                         f    f   \n",
       "3     70   F            t                  f                         f    f   \n",
       "4     70   F            f                  f                         f    f   \n",
       "...   ..  ..          ...                ...                       ...  ...   \n",
       "3767  30   F            f                  f                         f    f   \n",
       "3768  68   F            f                  f                         f    f   \n",
       "3769  74   F            f                  f                         f    f   \n",
       "3770  72   M            f                  f                         f    f   \n",
       "3771  64   F            f                  f                         f    f   \n",
       "\n",
       "     pregnant thyroid surgery I131 treatment query hypothyroid  ...  \\\n",
       "0           f               f              f                 f  ...   \n",
       "1           f               f              f                 f  ...   \n",
       "2           f               f              f                 f  ...   \n",
       "3           f               f              f                 f  ...   \n",
       "4           f               f              f                 f  ...   \n",
       "...       ...             ...            ...               ...  ...   \n",
       "3767        f               f              f                 f  ...   \n",
       "3768        f               f              f                 f  ...   \n",
       "3769        f               f              f                 f  ...   \n",
       "3770        f               f              f                 f  ...   \n",
       "3771        f               f              f                 f  ...   \n",
       "\n",
       "     TT4 measured  TT4 T4U measured   T4U FTI measured  FTI TBG measured TBG  \\\n",
       "0               t  125            t  1.14            t  109            f   ?   \n",
       "1               t  102            f     ?            f    ?            f   ?   \n",
       "2               t  109            t  0.91            t  120            f   ?   \n",
       "3               t  175            f     ?            f    ?            f   ?   \n",
       "4               t   61            t  0.87            t   70            f   ?   \n",
       "...           ...  ...          ...   ...          ...  ...          ...  ..   \n",
       "3767            f    ?            f     ?            f    ?            f   ?   \n",
       "3768            t  124            t  1.08            t  114            f   ?   \n",
       "3769            t  112            t  1.07            t  105            f   ?   \n",
       "3770            t   82            t  0.94            t   87            f   ?   \n",
       "3771            t   99            t  1.07            t   92            f   ?   \n",
       "\n",
       "     referral source binaryClass  \n",
       "0               SVHC           P  \n",
       "1              other           P  \n",
       "2              other           P  \n",
       "3              other           P  \n",
       "4                SVI           P  \n",
       "...              ...         ...  \n",
       "3767           other           P  \n",
       "3768             SVI           P  \n",
       "3769           other           P  \n",
       "3770             SVI           P  \n",
       "3771           other           P  \n",
       "\n",
       "[3772 rows x 30 columns]"
      ]
     },
     "execution_count": 2,
     "metadata": {},
     "output_type": "execute_result"
    }
   ],
   "source": [
    "df =pd.read_csv(\"hypothyroid.csv\")\n",
    "df"
   ]
  },
  {
   "cell_type": "code",
   "execution_count": 3,
   "id": "363d7a36",
   "metadata": {},
   "outputs": [
    {
     "name": "stdout",
     "output_type": "stream",
     "text": [
      "<class 'pandas.core.frame.DataFrame'>\n",
      "RangeIndex: 3772 entries, 0 to 3771\n",
      "Data columns (total 30 columns):\n",
      " #   Column                     Non-Null Count  Dtype \n",
      "---  ------                     --------------  ----- \n",
      " 0   age                        3772 non-null   object\n",
      " 1   sex                        3772 non-null   object\n",
      " 2   on thyroxine               3772 non-null   object\n",
      " 3   query on thyroxine         3772 non-null   object\n",
      " 4   on antithyroid medication  3772 non-null   object\n",
      " 5   sick                       3772 non-null   object\n",
      " 6   pregnant                   3772 non-null   object\n",
      " 7   thyroid surgery            3772 non-null   object\n",
      " 8   I131 treatment             3772 non-null   object\n",
      " 9   query hypothyroid          3772 non-null   object\n",
      " 10  query hyperthyroid         3772 non-null   object\n",
      " 11  lithium                    3772 non-null   object\n",
      " 12  goitre                     3772 non-null   object\n",
      " 13  tumor                      3772 non-null   object\n",
      " 14  hypopituitary              3772 non-null   object\n",
      " 15  psych                      3772 non-null   object\n",
      " 16  TSH measured               3772 non-null   object\n",
      " 17  TSH                        3772 non-null   object\n",
      " 18  T3 measured                3772 non-null   object\n",
      " 19  T3                         3772 non-null   object\n",
      " 20  TT4 measured               3772 non-null   object\n",
      " 21  TT4                        3772 non-null   object\n",
      " 22  T4U measured               3772 non-null   object\n",
      " 23  T4U                        3772 non-null   object\n",
      " 24  FTI measured               3772 non-null   object\n",
      " 25  FTI                        3772 non-null   object\n",
      " 26  TBG measured               3772 non-null   object\n",
      " 27  TBG                        3772 non-null   object\n",
      " 28  referral source            3772 non-null   object\n",
      " 29  binaryClass                3772 non-null   object\n",
      "dtypes: object(30)\n",
      "memory usage: 884.2+ KB\n"
     ]
    }
   ],
   "source": [
    "df.info()"
   ]
  },
  {
   "cell_type": "markdown",
   "id": "533cf3ef",
   "metadata": {},
   "source": [
    "# Replace '?' with NaN"
   ]
  },
  {
   "cell_type": "code",
   "execution_count": 4,
   "id": "02464aa9",
   "metadata": {},
   "outputs": [],
   "source": [
    "\n",
    "df['TSH'].replace('?', np.nan, inplace=True)\n",
    "df['TT4'].replace('?', np.nan, inplace=True)\n",
    "df['T3'].replace('?', np.nan, inplace=True)\n",
    "df['T4U'].replace('?', np.nan, inplace=True)\n",
    "df['FTI'].replace('?', np.nan, inplace=True)\n",
    "df['sex'].replace('?', np.nan, inplace=True)\n",
    "df['age'].replace('?', np.nan, inplace=True)\n",
    "df['FTI'].replace('?', np.nan, inplace=True)"
   ]
  },
  {
   "cell_type": "markdown",
   "id": "ac15471e",
   "metadata": {},
   "source": [
    "# Change Datatype"
   ]
  },
  {
   "cell_type": "code",
   "execution_count": 5,
   "id": "95c9d2e6",
   "metadata": {},
   "outputs": [],
   "source": [
    " \n",
    "df['age']=df['age'].astype(float)\n",
    "df['TSH']=df['TSH'].astype(float)\n",
    "df['T3']=df['T3'].astype(float)\n",
    "df['TT4']=df['TT4'].astype(float)\n",
    "df['T4U']=df['T4U'].astype(float)\n",
    "df['FTI']=df['FTI'].astype(float)"
   ]
  },
  {
   "cell_type": "markdown",
   "id": "8a8c6f1a",
   "metadata": {},
   "source": [
    "# Checking null values"
   ]
  },
  {
   "cell_type": "code",
   "execution_count": 6,
   "id": "09103f89",
   "metadata": {},
   "outputs": [
    {
     "data": {
      "text/plain": [
       "age                            1\n",
       "sex                          150\n",
       "on thyroxine                   0\n",
       "query on thyroxine             0\n",
       "on antithyroid medication      0\n",
       "sick                           0\n",
       "pregnant                       0\n",
       "thyroid surgery                0\n",
       "I131 treatment                 0\n",
       "query hypothyroid              0\n",
       "query hyperthyroid             0\n",
       "lithium                        0\n",
       "goitre                         0\n",
       "tumor                          0\n",
       "hypopituitary                  0\n",
       "psych                          0\n",
       "TSH measured                   0\n",
       "TSH                          369\n",
       "T3 measured                    0\n",
       "T3                           769\n",
       "TT4 measured                   0\n",
       "TT4                          231\n",
       "T4U measured                   0\n",
       "T4U                          387\n",
       "FTI measured                   0\n",
       "FTI                          385\n",
       "TBG measured                   0\n",
       "TBG                            0\n",
       "referral source                0\n",
       "binaryClass                    0\n",
       "dtype: int64"
      ]
     },
     "execution_count": 6,
     "metadata": {},
     "output_type": "execute_result"
    }
   ],
   "source": [
    "df.isnull().sum()"
   ]
  },
  {
   "cell_type": "markdown",
   "id": "bd9b5d98",
   "metadata": {},
   "source": [
    "# For replacing numerical columns"
   ]
  },
  {
   "cell_type": "markdown",
   "id": "4a347955",
   "metadata": {},
   "source": [
    "# Taking mean of the column which has null value and replace with mean"
   ]
  },
  {
   "cell_type": "code",
   "execution_count": 7,
   "id": "1bfb5af6",
   "metadata": {},
   "outputs": [],
   "source": [
    " \n",
    "df_mean=df['age'].mean()\n",
    "df['age']=df['age'].fillna(df_mean)\n",
    "\n",
    "df_mean=df['TSH'].mean()\n",
    "df['TSH']=df['TSH'].fillna(df_mean)\n",
    "\n",
    "df_mean=df['T3'].mean()\n",
    "df['T3']=df['T3'].fillna(df_mean)\n",
    "\n",
    "df_mean=df['TT4'].mean()\n",
    "df['TT4']=df['TT4'].fillna(df_mean)\n",
    "\n",
    "df_mean=df['T4U'].mean()\n",
    "df['T4U']=df['T4U'].fillna(df_mean)\n",
    "\n",
    "df_mean=df['FTI'].mean()\n",
    "df['FTI']=df['FTI'].fillna(df_mean)"
   ]
  },
  {
   "cell_type": "markdown",
   "id": "cab7ac74",
   "metadata": {},
   "source": [
    "# For replacing object columns"
   ]
  },
  {
   "cell_type": "code",
   "execution_count": 8,
   "id": "83831dd2",
   "metadata": {},
   "outputs": [
    {
     "data": {
      "text/plain": [
       "age                            0\n",
       "sex                          150\n",
       "on thyroxine                   0\n",
       "query on thyroxine             0\n",
       "on antithyroid medication      0\n",
       "sick                           0\n",
       "pregnant                       0\n",
       "thyroid surgery                0\n",
       "I131 treatment                 0\n",
       "query hypothyroid              0\n",
       "query hyperthyroid             0\n",
       "lithium                        0\n",
       "goitre                         0\n",
       "tumor                          0\n",
       "hypopituitary                  0\n",
       "psych                          0\n",
       "TSH measured                   0\n",
       "TSH                            0\n",
       "T3 measured                    0\n",
       "T3                             0\n",
       "TT4 measured                   0\n",
       "TT4                            0\n",
       "T4U measured                   0\n",
       "T4U                            0\n",
       "FTI measured                   0\n",
       "FTI                            0\n",
       "TBG measured                   0\n",
       "TBG                            0\n",
       "referral source                0\n",
       "binaryClass                    0\n",
       "dtype: int64"
      ]
     },
     "execution_count": 8,
     "metadata": {},
     "output_type": "execute_result"
    }
   ],
   "source": [
    "df.isnull().sum()"
   ]
  },
  {
   "cell_type": "markdown",
   "id": "a276e202",
   "metadata": {},
   "source": [
    "# Taking mode of the column which has null value and replace with mode"
   ]
  },
  {
   "cell_type": "code",
   "execution_count": 9,
   "id": "251b2ef5",
   "metadata": {},
   "outputs": [],
   "source": [
    "mode_value= df[\"sex\"].mode()[0]\n",
    "df[\"sex\"].fillna(mode_value,inplace= True)"
   ]
  },
  {
   "cell_type": "code",
   "execution_count": 10,
   "id": "803ff044",
   "metadata": {},
   "outputs": [
    {
     "data": {
      "text/plain": [
       "age                          0\n",
       "sex                          0\n",
       "on thyroxine                 0\n",
       "query on thyroxine           0\n",
       "on antithyroid medication    0\n",
       "sick                         0\n",
       "pregnant                     0\n",
       "thyroid surgery              0\n",
       "I131 treatment               0\n",
       "query hypothyroid            0\n",
       "query hyperthyroid           0\n",
       "lithium                      0\n",
       "goitre                       0\n",
       "tumor                        0\n",
       "hypopituitary                0\n",
       "psych                        0\n",
       "TSH measured                 0\n",
       "TSH                          0\n",
       "T3 measured                  0\n",
       "T3                           0\n",
       "TT4 measured                 0\n",
       "TT4                          0\n",
       "T4U measured                 0\n",
       "T4U                          0\n",
       "FTI measured                 0\n",
       "FTI                          0\n",
       "TBG measured                 0\n",
       "TBG                          0\n",
       "referral source              0\n",
       "binaryClass                  0\n",
       "dtype: int64"
      ]
     },
     "execution_count": 10,
     "metadata": {},
     "output_type": "execute_result"
    }
   ],
   "source": [
    "df.isnull().sum()"
   ]
  },
  {
   "cell_type": "markdown",
   "id": "bee44b70",
   "metadata": {},
   "source": [
    "# Drop unnecessary columns"
   ]
  },
  {
   "cell_type": "code",
   "execution_count": 11,
   "id": "a0347146",
   "metadata": {},
   "outputs": [],
   "source": [
    "df.drop(columns=[\"TSH measured\",\"TT4 measured\",\"T4U measured\",\n",
    "                 \"FTI measured\",\"TBG measured\", \"TBG\",\"referral source\"], inplace=True)"
   ]
  },
  {
   "cell_type": "code",
   "execution_count": 12,
   "id": "0a51cb4a",
   "metadata": {},
   "outputs": [
    {
     "data": {
      "text/html": [
       "<div>\n",
       "<style scoped>\n",
       "    .dataframe tbody tr th:only-of-type {\n",
       "        vertical-align: middle;\n",
       "    }\n",
       "\n",
       "    .dataframe tbody tr th {\n",
       "        vertical-align: top;\n",
       "    }\n",
       "\n",
       "    .dataframe thead th {\n",
       "        text-align: right;\n",
       "    }\n",
       "</style>\n",
       "<table border=\"1\" class=\"dataframe\">\n",
       "  <thead>\n",
       "    <tr style=\"text-align: right;\">\n",
       "      <th></th>\n",
       "      <th>age</th>\n",
       "      <th>sex</th>\n",
       "      <th>on thyroxine</th>\n",
       "      <th>query on thyroxine</th>\n",
       "      <th>on antithyroid medication</th>\n",
       "      <th>sick</th>\n",
       "      <th>pregnant</th>\n",
       "      <th>thyroid surgery</th>\n",
       "      <th>I131 treatment</th>\n",
       "      <th>query hypothyroid</th>\n",
       "      <th>...</th>\n",
       "      <th>tumor</th>\n",
       "      <th>hypopituitary</th>\n",
       "      <th>psych</th>\n",
       "      <th>TSH</th>\n",
       "      <th>T3 measured</th>\n",
       "      <th>T3</th>\n",
       "      <th>TT4</th>\n",
       "      <th>T4U</th>\n",
       "      <th>FTI</th>\n",
       "      <th>binaryClass</th>\n",
       "    </tr>\n",
       "  </thead>\n",
       "  <tbody>\n",
       "    <tr>\n",
       "      <th>0</th>\n",
       "      <td>41.0</td>\n",
       "      <td>F</td>\n",
       "      <td>f</td>\n",
       "      <td>f</td>\n",
       "      <td>f</td>\n",
       "      <td>f</td>\n",
       "      <td>f</td>\n",
       "      <td>f</td>\n",
       "      <td>f</td>\n",
       "      <td>f</td>\n",
       "      <td>...</td>\n",
       "      <td>f</td>\n",
       "      <td>f</td>\n",
       "      <td>f</td>\n",
       "      <td>1.300000</td>\n",
       "      <td>t</td>\n",
       "      <td>2.5000</td>\n",
       "      <td>125.000000</td>\n",
       "      <td>1.140</td>\n",
       "      <td>109.000000</td>\n",
       "      <td>P</td>\n",
       "    </tr>\n",
       "    <tr>\n",
       "      <th>1</th>\n",
       "      <td>23.0</td>\n",
       "      <td>F</td>\n",
       "      <td>f</td>\n",
       "      <td>f</td>\n",
       "      <td>f</td>\n",
       "      <td>f</td>\n",
       "      <td>f</td>\n",
       "      <td>f</td>\n",
       "      <td>f</td>\n",
       "      <td>f</td>\n",
       "      <td>...</td>\n",
       "      <td>f</td>\n",
       "      <td>f</td>\n",
       "      <td>f</td>\n",
       "      <td>4.100000</td>\n",
       "      <td>t</td>\n",
       "      <td>2.0000</td>\n",
       "      <td>102.000000</td>\n",
       "      <td>0.995</td>\n",
       "      <td>110.469649</td>\n",
       "      <td>P</td>\n",
       "    </tr>\n",
       "    <tr>\n",
       "      <th>2</th>\n",
       "      <td>46.0</td>\n",
       "      <td>M</td>\n",
       "      <td>f</td>\n",
       "      <td>f</td>\n",
       "      <td>f</td>\n",
       "      <td>f</td>\n",
       "      <td>f</td>\n",
       "      <td>f</td>\n",
       "      <td>f</td>\n",
       "      <td>f</td>\n",
       "      <td>...</td>\n",
       "      <td>f</td>\n",
       "      <td>f</td>\n",
       "      <td>f</td>\n",
       "      <td>0.980000</td>\n",
       "      <td>f</td>\n",
       "      <td>2.0135</td>\n",
       "      <td>109.000000</td>\n",
       "      <td>0.910</td>\n",
       "      <td>120.000000</td>\n",
       "      <td>P</td>\n",
       "    </tr>\n",
       "    <tr>\n",
       "      <th>3</th>\n",
       "      <td>70.0</td>\n",
       "      <td>F</td>\n",
       "      <td>t</td>\n",
       "      <td>f</td>\n",
       "      <td>f</td>\n",
       "      <td>f</td>\n",
       "      <td>f</td>\n",
       "      <td>f</td>\n",
       "      <td>f</td>\n",
       "      <td>f</td>\n",
       "      <td>...</td>\n",
       "      <td>f</td>\n",
       "      <td>f</td>\n",
       "      <td>f</td>\n",
       "      <td>0.160000</td>\n",
       "      <td>t</td>\n",
       "      <td>1.9000</td>\n",
       "      <td>175.000000</td>\n",
       "      <td>0.995</td>\n",
       "      <td>110.469649</td>\n",
       "      <td>P</td>\n",
       "    </tr>\n",
       "    <tr>\n",
       "      <th>4</th>\n",
       "      <td>70.0</td>\n",
       "      <td>F</td>\n",
       "      <td>f</td>\n",
       "      <td>f</td>\n",
       "      <td>f</td>\n",
       "      <td>f</td>\n",
       "      <td>f</td>\n",
       "      <td>f</td>\n",
       "      <td>f</td>\n",
       "      <td>f</td>\n",
       "      <td>...</td>\n",
       "      <td>f</td>\n",
       "      <td>f</td>\n",
       "      <td>f</td>\n",
       "      <td>0.720000</td>\n",
       "      <td>t</td>\n",
       "      <td>1.2000</td>\n",
       "      <td>61.000000</td>\n",
       "      <td>0.870</td>\n",
       "      <td>70.000000</td>\n",
       "      <td>P</td>\n",
       "    </tr>\n",
       "    <tr>\n",
       "      <th>...</th>\n",
       "      <td>...</td>\n",
       "      <td>...</td>\n",
       "      <td>...</td>\n",
       "      <td>...</td>\n",
       "      <td>...</td>\n",
       "      <td>...</td>\n",
       "      <td>...</td>\n",
       "      <td>...</td>\n",
       "      <td>...</td>\n",
       "      <td>...</td>\n",
       "      <td>...</td>\n",
       "      <td>...</td>\n",
       "      <td>...</td>\n",
       "      <td>...</td>\n",
       "      <td>...</td>\n",
       "      <td>...</td>\n",
       "      <td>...</td>\n",
       "      <td>...</td>\n",
       "      <td>...</td>\n",
       "      <td>...</td>\n",
       "      <td>...</td>\n",
       "    </tr>\n",
       "    <tr>\n",
       "      <th>3767</th>\n",
       "      <td>30.0</td>\n",
       "      <td>F</td>\n",
       "      <td>f</td>\n",
       "      <td>f</td>\n",
       "      <td>f</td>\n",
       "      <td>f</td>\n",
       "      <td>f</td>\n",
       "      <td>f</td>\n",
       "      <td>f</td>\n",
       "      <td>f</td>\n",
       "      <td>...</td>\n",
       "      <td>t</td>\n",
       "      <td>f</td>\n",
       "      <td>f</td>\n",
       "      <td>5.086766</td>\n",
       "      <td>f</td>\n",
       "      <td>2.0135</td>\n",
       "      <td>108.319345</td>\n",
       "      <td>0.995</td>\n",
       "      <td>110.469649</td>\n",
       "      <td>P</td>\n",
       "    </tr>\n",
       "    <tr>\n",
       "      <th>3768</th>\n",
       "      <td>68.0</td>\n",
       "      <td>F</td>\n",
       "      <td>f</td>\n",
       "      <td>f</td>\n",
       "      <td>f</td>\n",
       "      <td>f</td>\n",
       "      <td>f</td>\n",
       "      <td>f</td>\n",
       "      <td>f</td>\n",
       "      <td>f</td>\n",
       "      <td>...</td>\n",
       "      <td>f</td>\n",
       "      <td>f</td>\n",
       "      <td>f</td>\n",
       "      <td>1.000000</td>\n",
       "      <td>t</td>\n",
       "      <td>2.1000</td>\n",
       "      <td>124.000000</td>\n",
       "      <td>1.080</td>\n",
       "      <td>114.000000</td>\n",
       "      <td>P</td>\n",
       "    </tr>\n",
       "    <tr>\n",
       "      <th>3769</th>\n",
       "      <td>74.0</td>\n",
       "      <td>F</td>\n",
       "      <td>f</td>\n",
       "      <td>f</td>\n",
       "      <td>f</td>\n",
       "      <td>f</td>\n",
       "      <td>f</td>\n",
       "      <td>f</td>\n",
       "      <td>f</td>\n",
       "      <td>f</td>\n",
       "      <td>...</td>\n",
       "      <td>f</td>\n",
       "      <td>f</td>\n",
       "      <td>f</td>\n",
       "      <td>5.100000</td>\n",
       "      <td>t</td>\n",
       "      <td>1.8000</td>\n",
       "      <td>112.000000</td>\n",
       "      <td>1.070</td>\n",
       "      <td>105.000000</td>\n",
       "      <td>P</td>\n",
       "    </tr>\n",
       "    <tr>\n",
       "      <th>3770</th>\n",
       "      <td>72.0</td>\n",
       "      <td>M</td>\n",
       "      <td>f</td>\n",
       "      <td>f</td>\n",
       "      <td>f</td>\n",
       "      <td>f</td>\n",
       "      <td>f</td>\n",
       "      <td>f</td>\n",
       "      <td>f</td>\n",
       "      <td>f</td>\n",
       "      <td>...</td>\n",
       "      <td>f</td>\n",
       "      <td>f</td>\n",
       "      <td>f</td>\n",
       "      <td>0.700000</td>\n",
       "      <td>t</td>\n",
       "      <td>2.0000</td>\n",
       "      <td>82.000000</td>\n",
       "      <td>0.940</td>\n",
       "      <td>87.000000</td>\n",
       "      <td>P</td>\n",
       "    </tr>\n",
       "    <tr>\n",
       "      <th>3771</th>\n",
       "      <td>64.0</td>\n",
       "      <td>F</td>\n",
       "      <td>f</td>\n",
       "      <td>f</td>\n",
       "      <td>f</td>\n",
       "      <td>f</td>\n",
       "      <td>f</td>\n",
       "      <td>f</td>\n",
       "      <td>f</td>\n",
       "      <td>f</td>\n",
       "      <td>...</td>\n",
       "      <td>f</td>\n",
       "      <td>f</td>\n",
       "      <td>f</td>\n",
       "      <td>1.000000</td>\n",
       "      <td>t</td>\n",
       "      <td>2.2000</td>\n",
       "      <td>99.000000</td>\n",
       "      <td>1.070</td>\n",
       "      <td>92.000000</td>\n",
       "      <td>P</td>\n",
       "    </tr>\n",
       "  </tbody>\n",
       "</table>\n",
       "<p>3772 rows × 23 columns</p>\n",
       "</div>"
      ],
      "text/plain": [
       "       age sex on thyroxine query on thyroxine on antithyroid medication sick  \\\n",
       "0     41.0   F            f                  f                         f    f   \n",
       "1     23.0   F            f                  f                         f    f   \n",
       "2     46.0   M            f                  f                         f    f   \n",
       "3     70.0   F            t                  f                         f    f   \n",
       "4     70.0   F            f                  f                         f    f   \n",
       "...    ...  ..          ...                ...                       ...  ...   \n",
       "3767  30.0   F            f                  f                         f    f   \n",
       "3768  68.0   F            f                  f                         f    f   \n",
       "3769  74.0   F            f                  f                         f    f   \n",
       "3770  72.0   M            f                  f                         f    f   \n",
       "3771  64.0   F            f                  f                         f    f   \n",
       "\n",
       "     pregnant thyroid surgery I131 treatment query hypothyroid  ... tumor  \\\n",
       "0           f               f              f                 f  ...     f   \n",
       "1           f               f              f                 f  ...     f   \n",
       "2           f               f              f                 f  ...     f   \n",
       "3           f               f              f                 f  ...     f   \n",
       "4           f               f              f                 f  ...     f   \n",
       "...       ...             ...            ...               ...  ...   ...   \n",
       "3767        f               f              f                 f  ...     t   \n",
       "3768        f               f              f                 f  ...     f   \n",
       "3769        f               f              f                 f  ...     f   \n",
       "3770        f               f              f                 f  ...     f   \n",
       "3771        f               f              f                 f  ...     f   \n",
       "\n",
       "     hypopituitary psych       TSH T3 measured      T3         TT4    T4U  \\\n",
       "0                f     f  1.300000           t  2.5000  125.000000  1.140   \n",
       "1                f     f  4.100000           t  2.0000  102.000000  0.995   \n",
       "2                f     f  0.980000           f  2.0135  109.000000  0.910   \n",
       "3                f     f  0.160000           t  1.9000  175.000000  0.995   \n",
       "4                f     f  0.720000           t  1.2000   61.000000  0.870   \n",
       "...            ...   ...       ...         ...     ...         ...    ...   \n",
       "3767             f     f  5.086766           f  2.0135  108.319345  0.995   \n",
       "3768             f     f  1.000000           t  2.1000  124.000000  1.080   \n",
       "3769             f     f  5.100000           t  1.8000  112.000000  1.070   \n",
       "3770             f     f  0.700000           t  2.0000   82.000000  0.940   \n",
       "3771             f     f  1.000000           t  2.2000   99.000000  1.070   \n",
       "\n",
       "             FTI  binaryClass  \n",
       "0     109.000000            P  \n",
       "1     110.469649            P  \n",
       "2     120.000000            P  \n",
       "3     110.469649            P  \n",
       "4      70.000000            P  \n",
       "...          ...          ...  \n",
       "3767  110.469649            P  \n",
       "3768  114.000000            P  \n",
       "3769  105.000000            P  \n",
       "3770   87.000000            P  \n",
       "3771   92.000000            P  \n",
       "\n",
       "[3772 rows x 23 columns]"
      ]
     },
     "execution_count": 12,
     "metadata": {},
     "output_type": "execute_result"
    }
   ],
   "source": [
    "df"
   ]
  },
  {
   "cell_type": "markdown",
   "id": "2b211cfd",
   "metadata": {},
   "source": [
    "# Checking size (columns,rows) of Dataset"
   ]
  },
  {
   "cell_type": "code",
   "execution_count": 13,
   "id": "a1fdfdd5",
   "metadata": {},
   "outputs": [
    {
     "name": "stdout",
     "output_type": "stream",
     "text": [
      "Number of rows: 3772\n",
      "Number of Columns: 23\n"
     ]
    }
   ],
   "source": [
    "\n",
    "print(\"Number of rows: \" + str(df.shape[0]))\n",
    "print(\"Number of Columns: \" + str(df.shape[1]))"
   ]
  },
  {
   "cell_type": "markdown",
   "id": "5c9892e7",
   "metadata": {},
   "source": [
    "# Visualization"
   ]
  },
  {
   "cell_type": "markdown",
   "id": "d59a4e67",
   "metadata": {},
   "source": [
    "### Age Distrubution"
   ]
  },
  {
   "cell_type": "code",
   "execution_count": 14,
   "id": "b8b61224",
   "metadata": {},
   "outputs": [
    {
     "data": {
      "image/png": "[encoded data removed]",
      "text/plain": [
       "<Figure size 800x600 with 1 Axes>"
      ]
     },
     "metadata": {},
     "output_type": "display_data"
    }
   ],
   "source": [
    "plt.figure(figsize=(8, 6))\n",
    "sns.histplot(data=df, x='age', bins=60, kde=True)\n",
    "plt.title('Age Distribution')\n",
    "plt.xlabel('Age')\n",
    "plt.ylabel('Frequency')\n",
    "plt.xlim(0, 100)  # Set the x-axis limits\n",
    "plt.show()\n"
   ]
  },
  {
   "cell_type": "markdown",
   "id": "7f30817b",
   "metadata": {},
   "source": [
    "### Distribution of Hypothyroidism Cases by Gender"
   ]
  },
  {
   "cell_type": "code",
   "execution_count": 15,
   "id": "4606e433",
   "metadata": {},
   "outputs": [
    {
     "data": {
      "image/png": "[encoded data removed]",
      "text/plain": [
       "<Figure size 800x600 with 1 Axes>"
      ]
     },
     "metadata": {},
     "output_type": "display_data"
    }
   ],
   "source": [
    "# Group the data by gender and hypothyroidism status\n",
    "gender_hypothyroidism = df.groupby(['sex', 'binaryClass']).size().unstack()\n",
    "\n",
    "# Create a pie chart\n",
    "plt.figure(figsize=(8, 6))\n",
    "colors = ['#ff9999', '#66b3ff']  # Color for 'no' and 'yes' hypothyroidism cases\n",
    "labels = ['No Hypothyroidism', 'Hypothyroidism']\n",
    "plt.pie(gender_hypothyroidism['P'], labels=labels, autopct='%1.1f%%', colors=colors, startangle=90)\n",
    "plt.title('Distribution of Hypothyroidism Cases by Gender')\n",
    "plt.axis('equal')  # Equal aspect ratio ensures that pie is drawn as a circle.\n",
    "plt.show()\n"
   ]
  },
  {
   "cell_type": "code",
   "execution_count": 16,
   "id": "c85d796b",
   "metadata": {},
   "outputs": [
    {
     "data": {
      "image/png": "[encoded data removed]",
      "text/plain": [
       "<Figure size 600x400 with 1 Axes>"
      ]
     },
     "metadata": {},
     "output_type": "display_data"
    }
   ],
   "source": [
    "plt.figure(figsize=(6, 4))\n",
    "sns.countplot(x='pregnant', hue='binaryClass', data=df)\n",
    "plt.title('Effect of Pregnancy on Hypothyroidism')\n",
    "plt.xlabel('Pregnant')\n",
    "plt.ylabel('Count')\n",
    "plt.legend(title='Hypothyroidism')\n",
    "plt.show()\n",
    "\n"
   ]
  },
  {
   "cell_type": "markdown",
   "id": "150a5d72",
   "metadata": {},
   "source": [
    "### Effect of Pregnancy on Hypothyroidism"
   ]
  },
  {
   "cell_type": "code",
   "execution_count": 17,
   "id": "ffce6e1e",
   "metadata": {},
   "outputs": [
    {
     "data": {
      "image/png": "[encoded data removed]",
      "text/plain": [
       "<Figure size 1000x600 with 1 Axes>"
      ]
     },
     "metadata": {},
     "output_type": "display_data"
    }
   ],
   "source": [
    "\n",
    "plt.figure(figsize=(10, 6))\n",
    "sns.countplot(data=df, x='goitre', hue='binaryClass')\n",
    "plt.title('Distribution of Hypothyroidism by Goitre Status')\n",
    "plt.xlabel('Goitre Status')\n",
    "plt.ylabel('Count')\n",
    "plt.legend(title='Hypothyroidism')\n",
    "plt.show()\n"
   ]
  },
  {
   "cell_type": "markdown",
   "id": "f1b18c34",
   "metadata": {},
   "source": [
    "### Relationship Between Age and TSH"
   ]
  },
  {
   "cell_type": "code",
   "execution_count": 18,
   "id": "97a59f1c",
   "metadata": {},
   "outputs": [
    {
     "data": {
      "image/png": "[encoded data removed]",
      "text/plain": [
       "<Figure size 1000x500 with 1 Axes>"
      ]
     },
     "metadata": {},
     "output_type": "display_data"
    }
   ],
   "source": [
    "# Choose a hormone variable to analyze (e.g., TSH, T3, TT4)\n",
    "hormone_variable = 'TSH'  # Replace 'TSH' with the hormone variable you want to analyze\n",
    "\n",
    "# Plot a line plot showing the relationship between age and the chosen hormone level\n",
    "plt.figure(figsize=(10,5))\n",
    "sns.lineplot(data=df, x='age', y=hormone_variable)\n",
    "plt.title('Relationship Between Age and {}'.format(hormone_variable))\n",
    "plt.xlabel('Age')\n",
    "plt.ylabel(hormone_variable)\n",
    "plt.xlim(0, 100)  # Set the x-axis limits\n",
    "plt.grid(True)  # Add gridlines for better readability\n",
    "plt.show()"
   ]
  },
  {
   "cell_type": "markdown",
   "id": "260e9cbf",
   "metadata": {},
   "source": [
    "# Separting Numeric and category Data"
   ]
  },
  {
   "cell_type": "markdown",
   "id": "e43c2a09",
   "metadata": {},
   "source": [
    "# Numerical Data "
   ]
  },
  {
   "cell_type": "code",
   "execution_count": 19,
   "id": "31872ec3",
   "metadata": {},
   "outputs": [
    {
     "data": {
      "text/html": [
       "<div>\n",
       "<style scoped>\n",
       "    .dataframe tbody tr th:only-of-type {\n",
       "        vertical-align: middle;\n",
       "    }\n",
       "\n",
       "    .dataframe tbody tr th {\n",
       "        vertical-align: top;\n",
       "    }\n",
       "\n",
       "    .dataframe thead th {\n",
       "        text-align: right;\n",
       "    }\n",
       "</style>\n",
       "<table border=\"1\" class=\"dataframe\">\n",
       "  <thead>\n",
       "    <tr style=\"text-align: right;\">\n",
       "      <th></th>\n",
       "      <th>age</th>\n",
       "      <th>TSH</th>\n",
       "      <th>T3</th>\n",
       "      <th>TT4</th>\n",
       "      <th>T4U</th>\n",
       "      <th>FTI</th>\n",
       "    </tr>\n",
       "  </thead>\n",
       "  <tbody>\n",
       "    <tr>\n",
       "      <th>0</th>\n",
       "      <td>41.0</td>\n",
       "      <td>1.300000</td>\n",
       "      <td>2.5000</td>\n",
       "      <td>125.000000</td>\n",
       "      <td>1.140</td>\n",
       "      <td>109.000000</td>\n",
       "    </tr>\n",
       "    <tr>\n",
       "      <th>1</th>\n",
       "      <td>23.0</td>\n",
       "      <td>4.100000</td>\n",
       "      <td>2.0000</td>\n",
       "      <td>102.000000</td>\n",
       "      <td>0.995</td>\n",
       "      <td>110.469649</td>\n",
       "    </tr>\n",
       "    <tr>\n",
       "      <th>2</th>\n",
       "      <td>46.0</td>\n",
       "      <td>0.980000</td>\n",
       "      <td>2.0135</td>\n",
       "      <td>109.000000</td>\n",
       "      <td>0.910</td>\n",
       "      <td>120.000000</td>\n",
       "    </tr>\n",
       "    <tr>\n",
       "      <th>3</th>\n",
       "      <td>70.0</td>\n",
       "      <td>0.160000</td>\n",
       "      <td>1.9000</td>\n",
       "      <td>175.000000</td>\n",
       "      <td>0.995</td>\n",
       "      <td>110.469649</td>\n",
       "    </tr>\n",
       "    <tr>\n",
       "      <th>4</th>\n",
       "      <td>70.0</td>\n",
       "      <td>0.720000</td>\n",
       "      <td>1.2000</td>\n",
       "      <td>61.000000</td>\n",
       "      <td>0.870</td>\n",
       "      <td>70.000000</td>\n",
       "    </tr>\n",
       "    <tr>\n",
       "      <th>...</th>\n",
       "      <td>...</td>\n",
       "      <td>...</td>\n",
       "      <td>...</td>\n",
       "      <td>...</td>\n",
       "      <td>...</td>\n",
       "      <td>...</td>\n",
       "    </tr>\n",
       "    <tr>\n",
       "      <th>3767</th>\n",
       "      <td>30.0</td>\n",
       "      <td>5.086766</td>\n",
       "      <td>2.0135</td>\n",
       "      <td>108.319345</td>\n",
       "      <td>0.995</td>\n",
       "      <td>110.469649</td>\n",
       "    </tr>\n",
       "    <tr>\n",
       "      <th>3768</th>\n",
       "      <td>68.0</td>\n",
       "      <td>1.000000</td>\n",
       "      <td>2.1000</td>\n",
       "      <td>124.000000</td>\n",
       "      <td>1.080</td>\n",
       "      <td>114.000000</td>\n",
       "    </tr>\n",
       "    <tr>\n",
       "      <th>3769</th>\n",
       "      <td>74.0</td>\n",
       "      <td>5.100000</td>\n",
       "      <td>1.8000</td>\n",
       "      <td>112.000000</td>\n",
       "      <td>1.070</td>\n",
       "      <td>105.000000</td>\n",
       "    </tr>\n",
       "    <tr>\n",
       "      <th>3770</th>\n",
       "      <td>72.0</td>\n",
       "      <td>0.700000</td>\n",
       "      <td>2.0000</td>\n",
       "      <td>82.000000</td>\n",
       "      <td>0.940</td>\n",
       "      <td>87.000000</td>\n",
       "    </tr>\n",
       "    <tr>\n",
       "      <th>3771</th>\n",
       "      <td>64.0</td>\n",
       "      <td>1.000000</td>\n",
       "      <td>2.2000</td>\n",
       "      <td>99.000000</td>\n",
       "      <td>1.070</td>\n",
       "      <td>92.000000</td>\n",
       "    </tr>\n",
       "  </tbody>\n",
       "</table>\n",
       "<p>3772 rows × 6 columns</p>\n",
       "</div>"
      ],
      "text/plain": [
       "       age       TSH      T3         TT4    T4U         FTI\n",
       "0     41.0  1.300000  2.5000  125.000000  1.140  109.000000\n",
       "1     23.0  4.100000  2.0000  102.000000  0.995  110.469649\n",
       "2     46.0  0.980000  2.0135  109.000000  0.910  120.000000\n",
       "3     70.0  0.160000  1.9000  175.000000  0.995  110.469649\n",
       "4     70.0  0.720000  1.2000   61.000000  0.870   70.000000\n",
       "...    ...       ...     ...         ...    ...         ...\n",
       "3767  30.0  5.086766  2.0135  108.319345  0.995  110.469649\n",
       "3768  68.0  1.000000  2.1000  124.000000  1.080  114.000000\n",
       "3769  74.0  5.100000  1.8000  112.000000  1.070  105.000000\n",
       "3770  72.0  0.700000  2.0000   82.000000  0.940   87.000000\n",
       "3771  64.0  1.000000  2.2000   99.000000  1.070   92.000000\n",
       "\n",
       "[3772 rows x 6 columns]"
      ]
     },
     "execution_count": 19,
     "metadata": {},
     "output_type": "execute_result"
    }
   ],
   "source": [
    "df_num=df.select_dtypes(['int','float'])\n",
    "df_num"
   ]
  },
  {
   "cell_type": "markdown",
   "id": "cf137a0d",
   "metadata": {},
   "source": [
    "# Object Data"
   ]
  },
  {
   "cell_type": "code",
   "execution_count": 20,
   "id": "87fe419c",
   "metadata": {},
   "outputs": [
    {
     "data": {
      "text/html": [
       "<div>\n",
       "<style scoped>\n",
       "    .dataframe tbody tr th:only-of-type {\n",
       "        vertical-align: middle;\n",
       "    }\n",
       "\n",
       "    .dataframe tbody tr th {\n",
       "        vertical-align: top;\n",
       "    }\n",
       "\n",
       "    .dataframe thead th {\n",
       "        text-align: right;\n",
       "    }\n",
       "</style>\n",
       "<table border=\"1\" class=\"dataframe\">\n",
       "  <thead>\n",
       "    <tr style=\"text-align: right;\">\n",
       "      <th></th>\n",
       "      <th>sex</th>\n",
       "      <th>on thyroxine</th>\n",
       "      <th>query on thyroxine</th>\n",
       "      <th>on antithyroid medication</th>\n",
       "      <th>sick</th>\n",
       "      <th>pregnant</th>\n",
       "      <th>thyroid surgery</th>\n",
       "      <th>I131 treatment</th>\n",
       "      <th>query hypothyroid</th>\n",
       "      <th>query hyperthyroid</th>\n",
       "      <th>lithium</th>\n",
       "      <th>goitre</th>\n",
       "      <th>tumor</th>\n",
       "      <th>hypopituitary</th>\n",
       "      <th>psych</th>\n",
       "      <th>T3 measured</th>\n",
       "      <th>binaryClass</th>\n",
       "    </tr>\n",
       "  </thead>\n",
       "  <tbody>\n",
       "    <tr>\n",
       "      <th>0</th>\n",
       "      <td>F</td>\n",
       "      <td>f</td>\n",
       "      <td>f</td>\n",
       "      <td>f</td>\n",
       "      <td>f</td>\n",
       "      <td>f</td>\n",
       "      <td>f</td>\n",
       "      <td>f</td>\n",
       "      <td>f</td>\n",
       "      <td>f</td>\n",
       "      <td>f</td>\n",
       "      <td>f</td>\n",
       "      <td>f</td>\n",
       "      <td>f</td>\n",
       "      <td>f</td>\n",
       "      <td>t</td>\n",
       "      <td>P</td>\n",
       "    </tr>\n",
       "    <tr>\n",
       "      <th>1</th>\n",
       "      <td>F</td>\n",
       "      <td>f</td>\n",
       "      <td>f</td>\n",
       "      <td>f</td>\n",
       "      <td>f</td>\n",
       "      <td>f</td>\n",
       "      <td>f</td>\n",
       "      <td>f</td>\n",
       "      <td>f</td>\n",
       "      <td>f</td>\n",
       "      <td>f</td>\n",
       "      <td>f</td>\n",
       "      <td>f</td>\n",
       "      <td>f</td>\n",
       "      <td>f</td>\n",
       "      <td>t</td>\n",
       "      <td>P</td>\n",
       "    </tr>\n",
       "    <tr>\n",
       "      <th>2</th>\n",
       "      <td>M</td>\n",
       "      <td>f</td>\n",
       "      <td>f</td>\n",
       "      <td>f</td>\n",
       "      <td>f</td>\n",
       "      <td>f</td>\n",
       "      <td>f</td>\n",
       "      <td>f</td>\n",
       "      <td>f</td>\n",
       "      <td>f</td>\n",
       "      <td>f</td>\n",
       "      <td>f</td>\n",
       "      <td>f</td>\n",
       "      <td>f</td>\n",
       "      <td>f</td>\n",
       "      <td>f</td>\n",
       "      <td>P</td>\n",
       "    </tr>\n",
       "    <tr>\n",
       "      <th>3</th>\n",
       "      <td>F</td>\n",
       "      <td>t</td>\n",
       "      <td>f</td>\n",
       "      <td>f</td>\n",
       "      <td>f</td>\n",
       "      <td>f</td>\n",
       "      <td>f</td>\n",
       "      <td>f</td>\n",
       "      <td>f</td>\n",
       "      <td>f</td>\n",
       "      <td>f</td>\n",
       "      <td>f</td>\n",
       "      <td>f</td>\n",
       "      <td>f</td>\n",
       "      <td>f</td>\n",
       "      <td>t</td>\n",
       "      <td>P</td>\n",
       "    </tr>\n",
       "    <tr>\n",
       "      <th>4</th>\n",
       "      <td>F</td>\n",
       "      <td>f</td>\n",
       "      <td>f</td>\n",
       "      <td>f</td>\n",
       "      <td>f</td>\n",
       "      <td>f</td>\n",
       "      <td>f</td>\n",
       "      <td>f</td>\n",
       "      <td>f</td>\n",
       "      <td>f</td>\n",
       "      <td>f</td>\n",
       "      <td>f</td>\n",
       "      <td>f</td>\n",
       "      <td>f</td>\n",
       "      <td>f</td>\n",
       "      <td>t</td>\n",
       "      <td>P</td>\n",
       "    </tr>\n",
       "    <tr>\n",
       "      <th>...</th>\n",
       "      <td>...</td>\n",
       "      <td>...</td>\n",
       "      <td>...</td>\n",
       "      <td>...</td>\n",
       "      <td>...</td>\n",
       "      <td>...</td>\n",
       "      <td>...</td>\n",
       "      <td>...</td>\n",
       "      <td>...</td>\n",
       "      <td>...</td>\n",
       "      <td>...</td>\n",
       "      <td>...</td>\n",
       "      <td>...</td>\n",
       "      <td>...</td>\n",
       "      <td>...</td>\n",
       "      <td>...</td>\n",
       "      <td>...</td>\n",
       "    </tr>\n",
       "    <tr>\n",
       "      <th>3767</th>\n",
       "      <td>F</td>\n",
       "      <td>f</td>\n",
       "      <td>f</td>\n",
       "      <td>f</td>\n",
       "      <td>f</td>\n",
       "      <td>f</td>\n",
       "      <td>f</td>\n",
       "      <td>f</td>\n",
       "      <td>f</td>\n",
       "      <td>f</td>\n",
       "      <td>f</td>\n",
       "      <td>f</td>\n",
       "      <td>t</td>\n",
       "      <td>f</td>\n",
       "      <td>f</td>\n",
       "      <td>f</td>\n",
       "      <td>P</td>\n",
       "    </tr>\n",
       "    <tr>\n",
       "      <th>3768</th>\n",
       "      <td>F</td>\n",
       "      <td>f</td>\n",
       "      <td>f</td>\n",
       "      <td>f</td>\n",
       "      <td>f</td>\n",
       "      <td>f</td>\n",
       "      <td>f</td>\n",
       "      <td>f</td>\n",
       "      <td>f</td>\n",
       "      <td>f</td>\n",
       "      <td>f</td>\n",
       "      <td>f</td>\n",
       "      <td>f</td>\n",
       "      <td>f</td>\n",
       "      <td>f</td>\n",
       "      <td>t</td>\n",
       "      <td>P</td>\n",
       "    </tr>\n",
       "    <tr>\n",
       "      <th>3769</th>\n",
       "      <td>F</td>\n",
       "      <td>f</td>\n",
       "      <td>f</td>\n",
       "      <td>f</td>\n",
       "      <td>f</td>\n",
       "      <td>f</td>\n",
       "      <td>f</td>\n",
       "      <td>f</td>\n",
       "      <td>f</td>\n",
       "      <td>t</td>\n",
       "      <td>f</td>\n",
       "      <td>f</td>\n",
       "      <td>f</td>\n",
       "      <td>f</td>\n",
       "      <td>f</td>\n",
       "      <td>t</td>\n",
       "      <td>P</td>\n",
       "    </tr>\n",
       "    <tr>\n",
       "      <th>3770</th>\n",
       "      <td>M</td>\n",
       "      <td>f</td>\n",
       "      <td>f</td>\n",
       "      <td>f</td>\n",
       "      <td>f</td>\n",
       "      <td>f</td>\n",
       "      <td>f</td>\n",
       "      <td>f</td>\n",
       "      <td>f</td>\n",
       "      <td>f</td>\n",
       "      <td>f</td>\n",
       "      <td>f</td>\n",
       "      <td>f</td>\n",
       "      <td>f</td>\n",
       "      <td>f</td>\n",
       "      <td>t</td>\n",
       "      <td>P</td>\n",
       "    </tr>\n",
       "    <tr>\n",
       "      <th>3771</th>\n",
       "      <td>F</td>\n",
       "      <td>f</td>\n",
       "      <td>f</td>\n",
       "      <td>f</td>\n",
       "      <td>f</td>\n",
       "      <td>f</td>\n",
       "      <td>f</td>\n",
       "      <td>f</td>\n",
       "      <td>f</td>\n",
       "      <td>f</td>\n",
       "      <td>f</td>\n",
       "      <td>f</td>\n",
       "      <td>f</td>\n",
       "      <td>f</td>\n",
       "      <td>f</td>\n",
       "      <td>t</td>\n",
       "      <td>P</td>\n",
       "    </tr>\n",
       "  </tbody>\n",
       "</table>\n",
       "<p>3772 rows × 17 columns</p>\n",
       "</div>"
      ],
      "text/plain": [
       "     sex on thyroxine query on thyroxine on antithyroid medication sick  \\\n",
       "0      F            f                  f                         f    f   \n",
       "1      F            f                  f                         f    f   \n",
       "2      M            f                  f                         f    f   \n",
       "3      F            t                  f                         f    f   \n",
       "4      F            f                  f                         f    f   \n",
       "...   ..          ...                ...                       ...  ...   \n",
       "3767   F            f                  f                         f    f   \n",
       "3768   F            f                  f                         f    f   \n",
       "3769   F            f                  f                         f    f   \n",
       "3770   M            f                  f                         f    f   \n",
       "3771   F            f                  f                         f    f   \n",
       "\n",
       "     pregnant thyroid surgery I131 treatment query hypothyroid  \\\n",
       "0           f               f              f                 f   \n",
       "1           f               f              f                 f   \n",
       "2           f               f              f                 f   \n",
       "3           f               f              f                 f   \n",
       "4           f               f              f                 f   \n",
       "...       ...             ...            ...               ...   \n",
       "3767        f               f              f                 f   \n",
       "3768        f               f              f                 f   \n",
       "3769        f               f              f                 f   \n",
       "3770        f               f              f                 f   \n",
       "3771        f               f              f                 f   \n",
       "\n",
       "     query hyperthyroid lithium goitre tumor hypopituitary psych T3 measured  \\\n",
       "0                     f       f      f     f             f     f           t   \n",
       "1                     f       f      f     f             f     f           t   \n",
       "2                     f       f      f     f             f     f           f   \n",
       "3                     f       f      f     f             f     f           t   \n",
       "4                     f       f      f     f             f     f           t   \n",
       "...                 ...     ...    ...   ...           ...   ...         ...   \n",
       "3767                  f       f      f     t             f     f           f   \n",
       "3768                  f       f      f     f             f     f           t   \n",
       "3769                  t       f      f     f             f     f           t   \n",
       "3770                  f       f      f     f             f     f           t   \n",
       "3771                  f       f      f     f             f     f           t   \n",
       "\n",
       "     binaryClass  \n",
       "0              P  \n",
       "1              P  \n",
       "2              P  \n",
       "3              P  \n",
       "4              P  \n",
       "...          ...  \n",
       "3767           P  \n",
       "3768           P  \n",
       "3769           P  \n",
       "3770           P  \n",
       "3771           P  \n",
       "\n",
       "[3772 rows x 17 columns]"
      ]
     },
     "execution_count": 20,
     "metadata": {},
     "output_type": "execute_result"
    }
   ],
   "source": [
    "df_object=df.select_dtypes(['object'])\n",
    "df_object"
   ]
  },
  {
   "cell_type": "markdown",
   "id": "3e0fa433",
   "metadata": {},
   "source": [
    "# Label Encoding "
   ]
  },
  {
   "cell_type": "markdown",
   "id": "f8979cc4",
   "metadata": {},
   "source": [
    "# Using Label Encoder for converting category data into numeric"
   ]
  },
  {
   "cell_type": "code",
   "execution_count": 21,
   "id": "4f2909ab",
   "metadata": {},
   "outputs": [],
   "source": [
    "#label encoding\n",
    "from sklearn.preprocessing import LabelEncoder\n",
    "le=LabelEncoder()"
   ]
  },
  {
   "cell_type": "code",
   "execution_count": 22,
   "id": "afc29d02",
   "metadata": {},
   "outputs": [
    {
     "data": {
      "text/html": [
       "<div>\n",
       "<style scoped>\n",
       "    .dataframe tbody tr th:only-of-type {\n",
       "        vertical-align: middle;\n",
       "    }\n",
       "\n",
       "    .dataframe tbody tr th {\n",
       "        vertical-align: top;\n",
       "    }\n",
       "\n",
       "    .dataframe thead th {\n",
       "        text-align: right;\n",
       "    }\n",
       "</style>\n",
       "<table border=\"1\" class=\"dataframe\">\n",
       "  <thead>\n",
       "    <tr style=\"text-align: right;\">\n",
       "      <th></th>\n",
       "      <th>sex</th>\n",
       "      <th>on thyroxine</th>\n",
       "      <th>query on thyroxine</th>\n",
       "      <th>on antithyroid medication</th>\n",
       "      <th>sick</th>\n",
       "      <th>pregnant</th>\n",
       "      <th>thyroid surgery</th>\n",
       "      <th>I131 treatment</th>\n",
       "      <th>query hypothyroid</th>\n",
       "      <th>query hyperthyroid</th>\n",
       "      <th>lithium</th>\n",
       "      <th>goitre</th>\n",
       "      <th>tumor</th>\n",
       "      <th>hypopituitary</th>\n",
       "      <th>psych</th>\n",
       "      <th>T3 measured</th>\n",
       "      <th>binaryClass</th>\n",
       "    </tr>\n",
       "  </thead>\n",
       "  <tbody>\n",
       "    <tr>\n",
       "      <th>0</th>\n",
       "      <td>0</td>\n",
       "      <td>0</td>\n",
       "      <td>0</td>\n",
       "      <td>0</td>\n",
       "      <td>0</td>\n",
       "      <td>0</td>\n",
       "      <td>0</td>\n",
       "      <td>0</td>\n",
       "      <td>0</td>\n",
       "      <td>0</td>\n",
       "      <td>0</td>\n",
       "      <td>0</td>\n",
       "      <td>0</td>\n",
       "      <td>0</td>\n",
       "      <td>0</td>\n",
       "      <td>1</td>\n",
       "      <td>1</td>\n",
       "    </tr>\n",
       "    <tr>\n",
       "      <th>1</th>\n",
       "      <td>0</td>\n",
       "      <td>0</td>\n",
       "      <td>0</td>\n",
       "      <td>0</td>\n",
       "      <td>0</td>\n",
       "      <td>0</td>\n",
       "      <td>0</td>\n",
       "      <td>0</td>\n",
       "      <td>0</td>\n",
       "      <td>0</td>\n",
       "      <td>0</td>\n",
       "      <td>0</td>\n",
       "      <td>0</td>\n",
       "      <td>0</td>\n",
       "      <td>0</td>\n",
       "      <td>1</td>\n",
       "      <td>1</td>\n",
       "    </tr>\n",
       "    <tr>\n",
       "      <th>2</th>\n",
       "      <td>1</td>\n",
       "      <td>0</td>\n",
       "      <td>0</td>\n",
       "      <td>0</td>\n",
       "      <td>0</td>\n",
       "      <td>0</td>\n",
       "      <td>0</td>\n",
       "      <td>0</td>\n",
       "      <td>0</td>\n",
       "      <td>0</td>\n",
       "      <td>0</td>\n",
       "      <td>0</td>\n",
       "      <td>0</td>\n",
       "      <td>0</td>\n",
       "      <td>0</td>\n",
       "      <td>0</td>\n",
       "      <td>1</td>\n",
       "    </tr>\n",
       "    <tr>\n",
       "      <th>3</th>\n",
       "      <td>0</td>\n",
       "      <td>1</td>\n",
       "      <td>0</td>\n",
       "      <td>0</td>\n",
       "      <td>0</td>\n",
       "      <td>0</td>\n",
       "      <td>0</td>\n",
       "      <td>0</td>\n",
       "      <td>0</td>\n",
       "      <td>0</td>\n",
       "      <td>0</td>\n",
       "      <td>0</td>\n",
       "      <td>0</td>\n",
       "      <td>0</td>\n",
       "      <td>0</td>\n",
       "      <td>1</td>\n",
       "      <td>1</td>\n",
       "    </tr>\n",
       "    <tr>\n",
       "      <th>4</th>\n",
       "      <td>0</td>\n",
       "      <td>0</td>\n",
       "      <td>0</td>\n",
       "      <td>0</td>\n",
       "      <td>0</td>\n",
       "      <td>0</td>\n",
       "      <td>0</td>\n",
       "      <td>0</td>\n",
       "      <td>0</td>\n",
       "      <td>0</td>\n",
       "      <td>0</td>\n",
       "      <td>0</td>\n",
       "      <td>0</td>\n",
       "      <td>0</td>\n",
       "      <td>0</td>\n",
       "      <td>1</td>\n",
       "      <td>1</td>\n",
       "    </tr>\n",
       "    <tr>\n",
       "      <th>...</th>\n",
       "      <td>...</td>\n",
       "      <td>...</td>\n",
       "      <td>...</td>\n",
       "      <td>...</td>\n",
       "      <td>...</td>\n",
       "      <td>...</td>\n",
       "      <td>...</td>\n",
       "      <td>...</td>\n",
       "      <td>...</td>\n",
       "      <td>...</td>\n",
       "      <td>...</td>\n",
       "      <td>...</td>\n",
       "      <td>...</td>\n",
       "      <td>...</td>\n",
       "      <td>...</td>\n",
       "      <td>...</td>\n",
       "      <td>...</td>\n",
       "    </tr>\n",
       "    <tr>\n",
       "      <th>3767</th>\n",
       "      <td>0</td>\n",
       "      <td>0</td>\n",
       "      <td>0</td>\n",
       "      <td>0</td>\n",
       "      <td>0</td>\n",
       "      <td>0</td>\n",
       "      <td>0</td>\n",
       "      <td>0</td>\n",
       "      <td>0</td>\n",
       "      <td>0</td>\n",
       "      <td>0</td>\n",
       "      <td>0</td>\n",
       "      <td>1</td>\n",
       "      <td>0</td>\n",
       "      <td>0</td>\n",
       "      <td>0</td>\n",
       "      <td>1</td>\n",
       "    </tr>\n",
       "    <tr>\n",
       "      <th>3768</th>\n",
       "      <td>0</td>\n",
       "      <td>0</td>\n",
       "      <td>0</td>\n",
       "      <td>0</td>\n",
       "      <td>0</td>\n",
       "      <td>0</td>\n",
       "      <td>0</td>\n",
       "      <td>0</td>\n",
       "      <td>0</td>\n",
       "      <td>0</td>\n",
       "      <td>0</td>\n",
       "      <td>0</td>\n",
       "      <td>0</td>\n",
       "      <td>0</td>\n",
       "      <td>0</td>\n",
       "      <td>1</td>\n",
       "      <td>1</td>\n",
       "    </tr>\n",
       "    <tr>\n",
       "      <th>3769</th>\n",
       "      <td>0</td>\n",
       "      <td>0</td>\n",
       "      <td>0</td>\n",
       "      <td>0</td>\n",
       "      <td>0</td>\n",
       "      <td>0</td>\n",
       "      <td>0</td>\n",
       "      <td>0</td>\n",
       "      <td>0</td>\n",
       "      <td>1</td>\n",
       "      <td>0</td>\n",
       "      <td>0</td>\n",
       "      <td>0</td>\n",
       "      <td>0</td>\n",
       "      <td>0</td>\n",
       "      <td>1</td>\n",
       "      <td>1</td>\n",
       "    </tr>\n",
       "    <tr>\n",
       "      <th>3770</th>\n",
       "      <td>1</td>\n",
       "      <td>0</td>\n",
       "      <td>0</td>\n",
       "      <td>0</td>\n",
       "      <td>0</td>\n",
       "      <td>0</td>\n",
       "      <td>0</td>\n",
       "      <td>0</td>\n",
       "      <td>0</td>\n",
       "      <td>0</td>\n",
       "      <td>0</td>\n",
       "      <td>0</td>\n",
       "      <td>0</td>\n",
       "      <td>0</td>\n",
       "      <td>0</td>\n",
       "      <td>1</td>\n",
       "      <td>1</td>\n",
       "    </tr>\n",
       "    <tr>\n",
       "      <th>3771</th>\n",
       "      <td>0</td>\n",
       "      <td>0</td>\n",
       "      <td>0</td>\n",
       "      <td>0</td>\n",
       "      <td>0</td>\n",
       "      <td>0</td>\n",
       "      <td>0</td>\n",
       "      <td>0</td>\n",
       "      <td>0</td>\n",
       "      <td>0</td>\n",
       "      <td>0</td>\n",
       "      <td>0</td>\n",
       "      <td>0</td>\n",
       "      <td>0</td>\n",
       "      <td>0</td>\n",
       "      <td>1</td>\n",
       "      <td>1</td>\n",
       "    </tr>\n",
       "  </tbody>\n",
       "</table>\n",
       "<p>3772 rows × 17 columns</p>\n",
       "</div>"
      ],
      "text/plain": [
       "      sex  on thyroxine  query on thyroxine  on antithyroid medication  sick  \\\n",
       "0       0             0                   0                          0     0   \n",
       "1       0             0                   0                          0     0   \n",
       "2       1             0                   0                          0     0   \n",
       "3       0             1                   0                          0     0   \n",
       "4       0             0                   0                          0     0   \n",
       "...   ...           ...                 ...                        ...   ...   \n",
       "3767    0             0                   0                          0     0   \n",
       "3768    0             0                   0                          0     0   \n",
       "3769    0             0                   0                          0     0   \n",
       "3770    1             0                   0                          0     0   \n",
       "3771    0             0                   0                          0     0   \n",
       "\n",
       "      pregnant  thyroid surgery  I131 treatment  query hypothyroid  \\\n",
       "0            0                0               0                  0   \n",
       "1            0                0               0                  0   \n",
       "2            0                0               0                  0   \n",
       "3            0                0               0                  0   \n",
       "4            0                0               0                  0   \n",
       "...        ...              ...             ...                ...   \n",
       "3767         0                0               0                  0   \n",
       "3768         0                0               0                  0   \n",
       "3769         0                0               0                  0   \n",
       "3770         0                0               0                  0   \n",
       "3771         0                0               0                  0   \n",
       "\n",
       "      query hyperthyroid  lithium  goitre  tumor  hypopituitary  psych  \\\n",
       "0                      0        0       0      0              0      0   \n",
       "1                      0        0       0      0              0      0   \n",
       "2                      0        0       0      0              0      0   \n",
       "3                      0        0       0      0              0      0   \n",
       "4                      0        0       0      0              0      0   \n",
       "...                  ...      ...     ...    ...            ...    ...   \n",
       "3767                   0        0       0      1              0      0   \n",
       "3768                   0        0       0      0              0      0   \n",
       "3769                   1        0       0      0              0      0   \n",
       "3770                   0        0       0      0              0      0   \n",
       "3771                   0        0       0      0              0      0   \n",
       "\n",
       "      T3 measured  binaryClass  \n",
       "0               1            1  \n",
       "1               1            1  \n",
       "2               0            1  \n",
       "3               1            1  \n",
       "4               1            1  \n",
       "...           ...          ...  \n",
       "3767            0            1  \n",
       "3768            1            1  \n",
       "3769            1            1  \n",
       "3770            1            1  \n",
       "3771            1            1  \n",
       "\n",
       "[3772 rows x 17 columns]"
      ]
     },
     "execution_count": 22,
     "metadata": {},
     "output_type": "execute_result"
    }
   ],
   "source": [
    "for i in df_object:\n",
    "    df_object[i]=le.fit_transform(df_object[i]) \n",
    "#convert the cat to label encoder\n",
    "df_object"
   ]
  },
  {
   "cell_type": "markdown",
   "id": "89b092be",
   "metadata": {},
   "source": [
    "# Feacture scalling"
   ]
  },
  {
   "cell_type": "code",
   "execution_count": 23,
   "id": "4324a159",
   "metadata": {},
   "outputs": [],
   "source": [
    "from sklearn.preprocessing import StandardScaler\n",
    "sc=StandardScaler()"
   ]
  },
  {
   "cell_type": "code",
   "execution_count": 24,
   "id": "81a6fb56",
   "metadata": {},
   "outputs": [
    {
     "data": {
      "text/plain": [
       "array([[-5.34665107e-01, -1.62607532e-01,  6.59067701e-01,\n",
       "         4.83610257e-01,  7.83227111e-01, -4.68773538e-02],\n",
       "       [-1.43109584e+00, -4.23727250e-02, -1.82883889e-02,\n",
       "        -1.83212226e-01, -5.99693104e-16,  0.00000000e+00],\n",
       "       [-2.85656570e-01, -1.76348653e-01,  6.01613061e-16,\n",
       "         1.97337469e-02, -4.59130603e-01,  3.03989426e-01],\n",
       "       ...,\n",
       "       [ 1.10879123e+00,  5.68277416e-04, -2.89230825e-01,\n",
       "         1.06710593e-01,  4.05118242e-01, -1.74465274e-01],\n",
       "       [ 1.00918782e+00, -1.88372133e-01, -1.82883889e-02,\n",
       "        -7.63057864e-01, -2.97083945e-01, -7.48610914e-01],\n",
       "       [ 6.10774159e-01, -1.75489833e-01,  2.52654047e-01,\n",
       "        -2.70189072e-01,  4.05118242e-01, -5.89126014e-01]])"
      ]
     },
     "execution_count": 24,
     "metadata": {},
     "output_type": "execute_result"
    }
   ],
   "source": [
    "x_scaled=sc.fit_transform(df_num)\n",
    "x_scaled"
   ]
  },
  {
   "cell_type": "code",
   "execution_count": 25,
   "id": "1c4c0087",
   "metadata": {},
   "outputs": [
    {
     "name": "stdout",
     "output_type": "stream",
     "text": [
      "           age           TSH            T3           TT4           T4U  \\\n",
      "0    -0.534665 -1.626075e-01  6.590677e-01  4.836103e-01  7.832271e-01   \n",
      "1    -1.431096 -4.237273e-02 -1.828839e-02 -1.832122e-01 -5.996931e-16   \n",
      "2    -0.285657 -1.763487e-01  6.016131e-16  1.973375e-02 -4.591306e-01   \n",
      "3     0.909584 -2.115603e-01 -1.537596e-01  1.933224e+00 -5.996931e-16   \n",
      "4     0.909584 -1.875133e-01 -1.102058e+00 -1.371896e+00 -6.751928e-01   \n",
      "...        ...           ...           ...           ...           ...   \n",
      "3767 -1.082484 -3.813927e-17  6.016131e-16  4.120051e-16 -5.996931e-16   \n",
      "3768  0.809981 -1.754898e-01  1.171828e-01  4.546180e-01  4.591338e-01   \n",
      "3769  1.108791  5.682774e-04 -2.892308e-01  1.067106e-01  4.051182e-01   \n",
      "3770  1.009188 -1.883721e-01 -1.828839e-02 -7.630579e-01 -2.970839e-01   \n",
      "3771  0.610774 -1.754898e-01  2.526540e-01 -2.701891e-01  4.051182e-01   \n",
      "\n",
      "           FTI  \n",
      "0    -0.046877  \n",
      "1     0.000000  \n",
      "2     0.303989  \n",
      "3     0.000000  \n",
      "4    -1.290860  \n",
      "...        ...  \n",
      "3767  0.000000  \n",
      "3768  0.112608  \n",
      "3769 -0.174465  \n",
      "3770 -0.748611  \n",
      "3771 -0.589126  \n",
      "\n",
      "[3772 rows x 6 columns]\n"
     ]
    }
   ],
   "source": [
    "df_scaled = pd.DataFrame(data=x_scaled, columns=df_num.columns)\n",
    "print(df_scaled)"
   ]
  },
  {
   "cell_type": "markdown",
   "id": "e1b7297a",
   "metadata": {},
   "source": [
    "# Concatenate Numerical and Categorical Columns"
   ]
  },
  {
   "cell_type": "code",
   "execution_count": 26,
   "id": "076403cd",
   "metadata": {},
   "outputs": [
    {
     "data": {
      "text/html": [
       "<div>\n",
       "<style scoped>\n",
       "    .dataframe tbody tr th:only-of-type {\n",
       "        vertical-align: middle;\n",
       "    }\n",
       "\n",
       "    .dataframe tbody tr th {\n",
       "        vertical-align: top;\n",
       "    }\n",
       "\n",
       "    .dataframe thead th {\n",
       "        text-align: right;\n",
       "    }\n",
       "</style>\n",
       "<table border=\"1\" class=\"dataframe\">\n",
       "  <thead>\n",
       "    <tr style=\"text-align: right;\">\n",
       "      <th></th>\n",
       "      <th>age</th>\n",
       "      <th>TSH</th>\n",
       "      <th>T3</th>\n",
       "      <th>TT4</th>\n",
       "      <th>T4U</th>\n",
       "      <th>FTI</th>\n",
       "      <th>sex</th>\n",
       "      <th>on thyroxine</th>\n",
       "      <th>query on thyroxine</th>\n",
       "      <th>on antithyroid medication</th>\n",
       "      <th>...</th>\n",
       "      <th>I131 treatment</th>\n",
       "      <th>query hypothyroid</th>\n",
       "      <th>query hyperthyroid</th>\n",
       "      <th>lithium</th>\n",
       "      <th>goitre</th>\n",
       "      <th>tumor</th>\n",
       "      <th>hypopituitary</th>\n",
       "      <th>psych</th>\n",
       "      <th>T3 measured</th>\n",
       "      <th>binaryClass</th>\n",
       "    </tr>\n",
       "  </thead>\n",
       "  <tbody>\n",
       "    <tr>\n",
       "      <th>0</th>\n",
       "      <td>-0.534665</td>\n",
       "      <td>-1.626075e-01</td>\n",
       "      <td>6.590677e-01</td>\n",
       "      <td>4.836103e-01</td>\n",
       "      <td>7.832271e-01</td>\n",
       "      <td>-0.046877</td>\n",
       "      <td>0</td>\n",
       "      <td>0</td>\n",
       "      <td>0</td>\n",
       "      <td>0</td>\n",
       "      <td>...</td>\n",
       "      <td>0</td>\n",
       "      <td>0</td>\n",
       "      <td>0</td>\n",
       "      <td>0</td>\n",
       "      <td>0</td>\n",
       "      <td>0</td>\n",
       "      <td>0</td>\n",
       "      <td>0</td>\n",
       "      <td>1</td>\n",
       "      <td>1</td>\n",
       "    </tr>\n",
       "    <tr>\n",
       "      <th>1</th>\n",
       "      <td>-1.431096</td>\n",
       "      <td>-4.237273e-02</td>\n",
       "      <td>-1.828839e-02</td>\n",
       "      <td>-1.832122e-01</td>\n",
       "      <td>-5.996931e-16</td>\n",
       "      <td>0.000000</td>\n",
       "      <td>0</td>\n",
       "      <td>0</td>\n",
       "      <td>0</td>\n",
       "      <td>0</td>\n",
       "      <td>...</td>\n",
       "      <td>0</td>\n",
       "      <td>0</td>\n",
       "      <td>0</td>\n",
       "      <td>0</td>\n",
       "      <td>0</td>\n",
       "      <td>0</td>\n",
       "      <td>0</td>\n",
       "      <td>0</td>\n",
       "      <td>1</td>\n",
       "      <td>1</td>\n",
       "    </tr>\n",
       "    <tr>\n",
       "      <th>2</th>\n",
       "      <td>-0.285657</td>\n",
       "      <td>-1.763487e-01</td>\n",
       "      <td>6.016131e-16</td>\n",
       "      <td>1.973375e-02</td>\n",
       "      <td>-4.591306e-01</td>\n",
       "      <td>0.303989</td>\n",
       "      <td>1</td>\n",
       "      <td>0</td>\n",
       "      <td>0</td>\n",
       "      <td>0</td>\n",
       "      <td>...</td>\n",
       "      <td>0</td>\n",
       "      <td>0</td>\n",
       "      <td>0</td>\n",
       "      <td>0</td>\n",
       "      <td>0</td>\n",
       "      <td>0</td>\n",
       "      <td>0</td>\n",
       "      <td>0</td>\n",
       "      <td>0</td>\n",
       "      <td>1</td>\n",
       "    </tr>\n",
       "    <tr>\n",
       "      <th>3</th>\n",
       "      <td>0.909584</td>\n",
       "      <td>-2.115603e-01</td>\n",
       "      <td>-1.537596e-01</td>\n",
       "      <td>1.933224e+00</td>\n",
       "      <td>-5.996931e-16</td>\n",
       "      <td>0.000000</td>\n",
       "      <td>0</td>\n",
       "      <td>1</td>\n",
       "      <td>0</td>\n",
       "      <td>0</td>\n",
       "      <td>...</td>\n",
       "      <td>0</td>\n",
       "      <td>0</td>\n",
       "      <td>0</td>\n",
       "      <td>0</td>\n",
       "      <td>0</td>\n",
       "      <td>0</td>\n",
       "      <td>0</td>\n",
       "      <td>0</td>\n",
       "      <td>1</td>\n",
       "      <td>1</td>\n",
       "    </tr>\n",
       "    <tr>\n",
       "      <th>4</th>\n",
       "      <td>0.909584</td>\n",
       "      <td>-1.875133e-01</td>\n",
       "      <td>-1.102058e+00</td>\n",
       "      <td>-1.371896e+00</td>\n",
       "      <td>-6.751928e-01</td>\n",
       "      <td>-1.290860</td>\n",
       "      <td>0</td>\n",
       "      <td>0</td>\n",
       "      <td>0</td>\n",
       "      <td>0</td>\n",
       "      <td>...</td>\n",
       "      <td>0</td>\n",
       "      <td>0</td>\n",
       "      <td>0</td>\n",
       "      <td>0</td>\n",
       "      <td>0</td>\n",
       "      <td>0</td>\n",
       "      <td>0</td>\n",
       "      <td>0</td>\n",
       "      <td>1</td>\n",
       "      <td>1</td>\n",
       "    </tr>\n",
       "    <tr>\n",
       "      <th>...</th>\n",
       "      <td>...</td>\n",
       "      <td>...</td>\n",
       "      <td>...</td>\n",
       "      <td>...</td>\n",
       "      <td>...</td>\n",
       "      <td>...</td>\n",
       "      <td>...</td>\n",
       "      <td>...</td>\n",
       "      <td>...</td>\n",
       "      <td>...</td>\n",
       "      <td>...</td>\n",
       "      <td>...</td>\n",
       "      <td>...</td>\n",
       "      <td>...</td>\n",
       "      <td>...</td>\n",
       "      <td>...</td>\n",
       "      <td>...</td>\n",
       "      <td>...</td>\n",
       "      <td>...</td>\n",
       "      <td>...</td>\n",
       "      <td>...</td>\n",
       "    </tr>\n",
       "    <tr>\n",
       "      <th>3767</th>\n",
       "      <td>-1.082484</td>\n",
       "      <td>-3.813927e-17</td>\n",
       "      <td>6.016131e-16</td>\n",
       "      <td>4.120051e-16</td>\n",
       "      <td>-5.996931e-16</td>\n",
       "      <td>0.000000</td>\n",
       "      <td>0</td>\n",
       "      <td>0</td>\n",
       "      <td>0</td>\n",
       "      <td>0</td>\n",
       "      <td>...</td>\n",
       "      <td>0</td>\n",
       "      <td>0</td>\n",
       "      <td>0</td>\n",
       "      <td>0</td>\n",
       "      <td>0</td>\n",
       "      <td>1</td>\n",
       "      <td>0</td>\n",
       "      <td>0</td>\n",
       "      <td>0</td>\n",
       "      <td>1</td>\n",
       "    </tr>\n",
       "    <tr>\n",
       "      <th>3768</th>\n",
       "      <td>0.809981</td>\n",
       "      <td>-1.754898e-01</td>\n",
       "      <td>1.171828e-01</td>\n",
       "      <td>4.546180e-01</td>\n",
       "      <td>4.591338e-01</td>\n",
       "      <td>0.112608</td>\n",
       "      <td>0</td>\n",
       "      <td>0</td>\n",
       "      <td>0</td>\n",
       "      <td>0</td>\n",
       "      <td>...</td>\n",
       "      <td>0</td>\n",
       "      <td>0</td>\n",
       "      <td>0</td>\n",
       "      <td>0</td>\n",
       "      <td>0</td>\n",
       "      <td>0</td>\n",
       "      <td>0</td>\n",
       "      <td>0</td>\n",
       "      <td>1</td>\n",
       "      <td>1</td>\n",
       "    </tr>\n",
       "    <tr>\n",
       "      <th>3769</th>\n",
       "      <td>1.108791</td>\n",
       "      <td>5.682774e-04</td>\n",
       "      <td>-2.892308e-01</td>\n",
       "      <td>1.067106e-01</td>\n",
       "      <td>4.051182e-01</td>\n",
       "      <td>-0.174465</td>\n",
       "      <td>0</td>\n",
       "      <td>0</td>\n",
       "      <td>0</td>\n",
       "      <td>0</td>\n",
       "      <td>...</td>\n",
       "      <td>0</td>\n",
       "      <td>0</td>\n",
       "      <td>1</td>\n",
       "      <td>0</td>\n",
       "      <td>0</td>\n",
       "      <td>0</td>\n",
       "      <td>0</td>\n",
       "      <td>0</td>\n",
       "      <td>1</td>\n",
       "      <td>1</td>\n",
       "    </tr>\n",
       "    <tr>\n",
       "      <th>3770</th>\n",
       "      <td>1.009188</td>\n",
       "      <td>-1.883721e-01</td>\n",
       "      <td>-1.828839e-02</td>\n",
       "      <td>-7.630579e-01</td>\n",
       "      <td>-2.970839e-01</td>\n",
       "      <td>-0.748611</td>\n",
       "      <td>1</td>\n",
       "      <td>0</td>\n",
       "      <td>0</td>\n",
       "      <td>0</td>\n",
       "      <td>...</td>\n",
       "      <td>0</td>\n",
       "      <td>0</td>\n",
       "      <td>0</td>\n",
       "      <td>0</td>\n",
       "      <td>0</td>\n",
       "      <td>0</td>\n",
       "      <td>0</td>\n",
       "      <td>0</td>\n",
       "      <td>1</td>\n",
       "      <td>1</td>\n",
       "    </tr>\n",
       "    <tr>\n",
       "      <th>3771</th>\n",
       "      <td>0.610774</td>\n",
       "      <td>-1.754898e-01</td>\n",
       "      <td>2.526540e-01</td>\n",
       "      <td>-2.701891e-01</td>\n",
       "      <td>4.051182e-01</td>\n",
       "      <td>-0.589126</td>\n",
       "      <td>0</td>\n",
       "      <td>0</td>\n",
       "      <td>0</td>\n",
       "      <td>0</td>\n",
       "      <td>...</td>\n",
       "      <td>0</td>\n",
       "      <td>0</td>\n",
       "      <td>0</td>\n",
       "      <td>0</td>\n",
       "      <td>0</td>\n",
       "      <td>0</td>\n",
       "      <td>0</td>\n",
       "      <td>0</td>\n",
       "      <td>1</td>\n",
       "      <td>1</td>\n",
       "    </tr>\n",
       "  </tbody>\n",
       "</table>\n",
       "<p>3772 rows × 23 columns</p>\n",
       "</div>"
      ],
      "text/plain": [
       "           age           TSH            T3           TT4           T4U  \\\n",
       "0    -0.534665 -1.626075e-01  6.590677e-01  4.836103e-01  7.832271e-01   \n",
       "1    -1.431096 -4.237273e-02 -1.828839e-02 -1.832122e-01 -5.996931e-16   \n",
       "2    -0.285657 -1.763487e-01  6.016131e-16  1.973375e-02 -4.591306e-01   \n",
       "3     0.909584 -2.115603e-01 -1.537596e-01  1.933224e+00 -5.996931e-16   \n",
       "4     0.909584 -1.875133e-01 -1.102058e+00 -1.371896e+00 -6.751928e-01   \n",
       "...        ...           ...           ...           ...           ...   \n",
       "3767 -1.082484 -3.813927e-17  6.016131e-16  4.120051e-16 -5.996931e-16   \n",
       "3768  0.809981 -1.754898e-01  1.171828e-01  4.546180e-01  4.591338e-01   \n",
       "3769  1.108791  5.682774e-04 -2.892308e-01  1.067106e-01  4.051182e-01   \n",
       "3770  1.009188 -1.883721e-01 -1.828839e-02 -7.630579e-01 -2.970839e-01   \n",
       "3771  0.610774 -1.754898e-01  2.526540e-01 -2.701891e-01  4.051182e-01   \n",
       "\n",
       "           FTI  sex  on thyroxine  query on thyroxine  \\\n",
       "0    -0.046877    0             0                   0   \n",
       "1     0.000000    0             0                   0   \n",
       "2     0.303989    1             0                   0   \n",
       "3     0.000000    0             1                   0   \n",
       "4    -1.290860    0             0                   0   \n",
       "...        ...  ...           ...                 ...   \n",
       "3767  0.000000    0             0                   0   \n",
       "3768  0.112608    0             0                   0   \n",
       "3769 -0.174465    0             0                   0   \n",
       "3770 -0.748611    1             0                   0   \n",
       "3771 -0.589126    0             0                   0   \n",
       "\n",
       "      on antithyroid medication  ...  I131 treatment  query hypothyroid  \\\n",
       "0                             0  ...               0                  0   \n",
       "1                             0  ...               0                  0   \n",
       "2                             0  ...               0                  0   \n",
       "3                             0  ...               0                  0   \n",
       "4                             0  ...               0                  0   \n",
       "...                         ...  ...             ...                ...   \n",
       "3767                          0  ...               0                  0   \n",
       "3768                          0  ...               0                  0   \n",
       "3769                          0  ...               0                  0   \n",
       "3770                          0  ...               0                  0   \n",
       "3771                          0  ...               0                  0   \n",
       "\n",
       "      query hyperthyroid  lithium  goitre  tumor  hypopituitary  psych  \\\n",
       "0                      0        0       0      0              0      0   \n",
       "1                      0        0       0      0              0      0   \n",
       "2                      0        0       0      0              0      0   \n",
       "3                      0        0       0      0              0      0   \n",
       "4                      0        0       0      0              0      0   \n",
       "...                  ...      ...     ...    ...            ...    ...   \n",
       "3767                   0        0       0      1              0      0   \n",
       "3768                   0        0       0      0              0      0   \n",
       "3769                   1        0       0      0              0      0   \n",
       "3770                   0        0       0      0              0      0   \n",
       "3771                   0        0       0      0              0      0   \n",
       "\n",
       "      T3 measured  binaryClass  \n",
       "0               1            1  \n",
       "1               1            1  \n",
       "2               0            1  \n",
       "3               1            1  \n",
       "4               1            1  \n",
       "...           ...          ...  \n",
       "3767            0            1  \n",
       "3768            1            1  \n",
       "3769            1            1  \n",
       "3770            1            1  \n",
       "3771            1            1  \n",
       "\n",
       "[3772 rows x 23 columns]"
      ]
     },
     "execution_count": 26,
     "metadata": {},
     "output_type": "execute_result"
    }
   ],
   "source": [
    "df_new=pd.concat([df_scaled,df_object],axis=1)\n",
    "df_new"
   ]
  },
  {
   "cell_type": "markdown",
   "id": "e4571401",
   "metadata": {},
   "source": [
    "# split the data"
   ]
  },
  {
   "cell_type": "code",
   "execution_count": 27,
   "id": "41f8167d",
   "metadata": {},
   "outputs": [
    {
     "data": {
      "text/html": [
       "<div>\n",
       "<style scoped>\n",
       "    .dataframe tbody tr th:only-of-type {\n",
       "        vertical-align: middle;\n",
       "    }\n",
       "\n",
       "    .dataframe tbody tr th {\n",
       "        vertical-align: top;\n",
       "    }\n",
       "\n",
       "    .dataframe thead th {\n",
       "        text-align: right;\n",
       "    }\n",
       "</style>\n",
       "<table border=\"1\" class=\"dataframe\">\n",
       "  <thead>\n",
       "    <tr style=\"text-align: right;\">\n",
       "      <th></th>\n",
       "      <th>binaryClass</th>\n",
       "    </tr>\n",
       "  </thead>\n",
       "  <tbody>\n",
       "    <tr>\n",
       "      <th>0</th>\n",
       "      <td>1</td>\n",
       "    </tr>\n",
       "    <tr>\n",
       "      <th>1</th>\n",
       "      <td>1</td>\n",
       "    </tr>\n",
       "    <tr>\n",
       "      <th>2</th>\n",
       "      <td>1</td>\n",
       "    </tr>\n",
       "    <tr>\n",
       "      <th>3</th>\n",
       "      <td>1</td>\n",
       "    </tr>\n",
       "    <tr>\n",
       "      <th>4</th>\n",
       "      <td>1</td>\n",
       "    </tr>\n",
       "    <tr>\n",
       "      <th>...</th>\n",
       "      <td>...</td>\n",
       "    </tr>\n",
       "    <tr>\n",
       "      <th>3767</th>\n",
       "      <td>1</td>\n",
       "    </tr>\n",
       "    <tr>\n",
       "      <th>3768</th>\n",
       "      <td>1</td>\n",
       "    </tr>\n",
       "    <tr>\n",
       "      <th>3769</th>\n",
       "      <td>1</td>\n",
       "    </tr>\n",
       "    <tr>\n",
       "      <th>3770</th>\n",
       "      <td>1</td>\n",
       "    </tr>\n",
       "    <tr>\n",
       "      <th>3771</th>\n",
       "      <td>1</td>\n",
       "    </tr>\n",
       "  </tbody>\n",
       "</table>\n",
       "<p>3772 rows × 1 columns</p>\n",
       "</div>"
      ],
      "text/plain": [
       "      binaryClass\n",
       "0               1\n",
       "1               1\n",
       "2               1\n",
       "3               1\n",
       "4               1\n",
       "...           ...\n",
       "3767            1\n",
       "3768            1\n",
       "3769            1\n",
       "3770            1\n",
       "3771            1\n",
       "\n",
       "[3772 rows x 1 columns]"
      ]
     },
     "execution_count": 27,
     "metadata": {},
     "output_type": "execute_result"
    }
   ],
   "source": [
    "y=df_new.iloc[:,-1:]\n",
    "y"
   ]
  },
  {
   "cell_type": "code",
   "execution_count": 28,
   "id": "d19b66ff",
   "metadata": {},
   "outputs": [
    {
     "data": {
      "text/html": [
       "<div>\n",
       "<style scoped>\n",
       "    .dataframe tbody tr th:only-of-type {\n",
       "        vertical-align: middle;\n",
       "    }\n",
       "\n",
       "    .dataframe tbody tr th {\n",
       "        vertical-align: top;\n",
       "    }\n",
       "\n",
       "    .dataframe thead th {\n",
       "        text-align: right;\n",
       "    }\n",
       "</style>\n",
       "<table border=\"1\" class=\"dataframe\">\n",
       "  <thead>\n",
       "    <tr style=\"text-align: right;\">\n",
       "      <th></th>\n",
       "      <th>age</th>\n",
       "      <th>TSH</th>\n",
       "      <th>T3</th>\n",
       "      <th>TT4</th>\n",
       "      <th>T4U</th>\n",
       "      <th>FTI</th>\n",
       "      <th>sex</th>\n",
       "      <th>on thyroxine</th>\n",
       "      <th>query on thyroxine</th>\n",
       "      <th>on antithyroid medication</th>\n",
       "      <th>...</th>\n",
       "      <th>thyroid surgery</th>\n",
       "      <th>I131 treatment</th>\n",
       "      <th>query hypothyroid</th>\n",
       "      <th>query hyperthyroid</th>\n",
       "      <th>lithium</th>\n",
       "      <th>goitre</th>\n",
       "      <th>tumor</th>\n",
       "      <th>hypopituitary</th>\n",
       "      <th>psych</th>\n",
       "      <th>T3 measured</th>\n",
       "    </tr>\n",
       "  </thead>\n",
       "  <tbody>\n",
       "    <tr>\n",
       "      <th>0</th>\n",
       "      <td>-0.534665</td>\n",
       "      <td>-1.626075e-01</td>\n",
       "      <td>6.590677e-01</td>\n",
       "      <td>4.836103e-01</td>\n",
       "      <td>7.832271e-01</td>\n",
       "      <td>-0.046877</td>\n",
       "      <td>0</td>\n",
       "      <td>0</td>\n",
       "      <td>0</td>\n",
       "      <td>0</td>\n",
       "      <td>...</td>\n",
       "      <td>0</td>\n",
       "      <td>0</td>\n",
       "      <td>0</td>\n",
       "      <td>0</td>\n",
       "      <td>0</td>\n",
       "      <td>0</td>\n",
       "      <td>0</td>\n",
       "      <td>0</td>\n",
       "      <td>0</td>\n",
       "      <td>1</td>\n",
       "    </tr>\n",
       "    <tr>\n",
       "      <th>1</th>\n",
       "      <td>-1.431096</td>\n",
       "      <td>-4.237273e-02</td>\n",
       "      <td>-1.828839e-02</td>\n",
       "      <td>-1.832122e-01</td>\n",
       "      <td>-5.996931e-16</td>\n",
       "      <td>0.000000</td>\n",
       "      <td>0</td>\n",
       "      <td>0</td>\n",
       "      <td>0</td>\n",
       "      <td>0</td>\n",
       "      <td>...</td>\n",
       "      <td>0</td>\n",
       "      <td>0</td>\n",
       "      <td>0</td>\n",
       "      <td>0</td>\n",
       "      <td>0</td>\n",
       "      <td>0</td>\n",
       "      <td>0</td>\n",
       "      <td>0</td>\n",
       "      <td>0</td>\n",
       "      <td>1</td>\n",
       "    </tr>\n",
       "    <tr>\n",
       "      <th>2</th>\n",
       "      <td>-0.285657</td>\n",
       "      <td>-1.763487e-01</td>\n",
       "      <td>6.016131e-16</td>\n",
       "      <td>1.973375e-02</td>\n",
       "      <td>-4.591306e-01</td>\n",
       "      <td>0.303989</td>\n",
       "      <td>1</td>\n",
       "      <td>0</td>\n",
       "      <td>0</td>\n",
       "      <td>0</td>\n",
       "      <td>...</td>\n",
       "      <td>0</td>\n",
       "      <td>0</td>\n",
       "      <td>0</td>\n",
       "      <td>0</td>\n",
       "      <td>0</td>\n",
       "      <td>0</td>\n",
       "      <td>0</td>\n",
       "      <td>0</td>\n",
       "      <td>0</td>\n",
       "      <td>0</td>\n",
       "    </tr>\n",
       "    <tr>\n",
       "      <th>3</th>\n",
       "      <td>0.909584</td>\n",
       "      <td>-2.115603e-01</td>\n",
       "      <td>-1.537596e-01</td>\n",
       "      <td>1.933224e+00</td>\n",
       "      <td>-5.996931e-16</td>\n",
       "      <td>0.000000</td>\n",
       "      <td>0</td>\n",
       "      <td>1</td>\n",
       "      <td>0</td>\n",
       "      <td>0</td>\n",
       "      <td>...</td>\n",
       "      <td>0</td>\n",
       "      <td>0</td>\n",
       "      <td>0</td>\n",
       "      <td>0</td>\n",
       "      <td>0</td>\n",
       "      <td>0</td>\n",
       "      <td>0</td>\n",
       "      <td>0</td>\n",
       "      <td>0</td>\n",
       "      <td>1</td>\n",
       "    </tr>\n",
       "    <tr>\n",
       "      <th>4</th>\n",
       "      <td>0.909584</td>\n",
       "      <td>-1.875133e-01</td>\n",
       "      <td>-1.102058e+00</td>\n",
       "      <td>-1.371896e+00</td>\n",
       "      <td>-6.751928e-01</td>\n",
       "      <td>-1.290860</td>\n",
       "      <td>0</td>\n",
       "      <td>0</td>\n",
       "      <td>0</td>\n",
       "      <td>0</td>\n",
       "      <td>...</td>\n",
       "      <td>0</td>\n",
       "      <td>0</td>\n",
       "      <td>0</td>\n",
       "      <td>0</td>\n",
       "      <td>0</td>\n",
       "      <td>0</td>\n",
       "      <td>0</td>\n",
       "      <td>0</td>\n",
       "      <td>0</td>\n",
       "      <td>1</td>\n",
       "    </tr>\n",
       "    <tr>\n",
       "      <th>...</th>\n",
       "      <td>...</td>\n",
       "      <td>...</td>\n",
       "      <td>...</td>\n",
       "      <td>...</td>\n",
       "      <td>...</td>\n",
       "      <td>...</td>\n",
       "      <td>...</td>\n",
       "      <td>...</td>\n",
       "      <td>...</td>\n",
       "      <td>...</td>\n",
       "      <td>...</td>\n",
       "      <td>...</td>\n",
       "      <td>...</td>\n",
       "      <td>...</td>\n",
       "      <td>...</td>\n",
       "      <td>...</td>\n",
       "      <td>...</td>\n",
       "      <td>...</td>\n",
       "      <td>...</td>\n",
       "      <td>...</td>\n",
       "      <td>...</td>\n",
       "    </tr>\n",
       "    <tr>\n",
       "      <th>3767</th>\n",
       "      <td>-1.082484</td>\n",
       "      <td>-3.813927e-17</td>\n",
       "      <td>6.016131e-16</td>\n",
       "      <td>4.120051e-16</td>\n",
       "      <td>-5.996931e-16</td>\n",
       "      <td>0.000000</td>\n",
       "      <td>0</td>\n",
       "      <td>0</td>\n",
       "      <td>0</td>\n",
       "      <td>0</td>\n",
       "      <td>...</td>\n",
       "      <td>0</td>\n",
       "      <td>0</td>\n",
       "      <td>0</td>\n",
       "      <td>0</td>\n",
       "      <td>0</td>\n",
       "      <td>0</td>\n",
       "      <td>1</td>\n",
       "      <td>0</td>\n",
       "      <td>0</td>\n",
       "      <td>0</td>\n",
       "    </tr>\n",
       "    <tr>\n",
       "      <th>3768</th>\n",
       "      <td>0.809981</td>\n",
       "      <td>-1.754898e-01</td>\n",
       "      <td>1.171828e-01</td>\n",
       "      <td>4.546180e-01</td>\n",
       "      <td>4.591338e-01</td>\n",
       "      <td>0.112608</td>\n",
       "      <td>0</td>\n",
       "      <td>0</td>\n",
       "      <td>0</td>\n",
       "      <td>0</td>\n",
       "      <td>...</td>\n",
       "      <td>0</td>\n",
       "      <td>0</td>\n",
       "      <td>0</td>\n",
       "      <td>0</td>\n",
       "      <td>0</td>\n",
       "      <td>0</td>\n",
       "      <td>0</td>\n",
       "      <td>0</td>\n",
       "      <td>0</td>\n",
       "      <td>1</td>\n",
       "    </tr>\n",
       "    <tr>\n",
       "      <th>3769</th>\n",
       "      <td>1.108791</td>\n",
       "      <td>5.682774e-04</td>\n",
       "      <td>-2.892308e-01</td>\n",
       "      <td>1.067106e-01</td>\n",
       "      <td>4.051182e-01</td>\n",
       "      <td>-0.174465</td>\n",
       "      <td>0</td>\n",
       "      <td>0</td>\n",
       "      <td>0</td>\n",
       "      <td>0</td>\n",
       "      <td>...</td>\n",
       "      <td>0</td>\n",
       "      <td>0</td>\n",
       "      <td>0</td>\n",
       "      <td>1</td>\n",
       "      <td>0</td>\n",
       "      <td>0</td>\n",
       "      <td>0</td>\n",
       "      <td>0</td>\n",
       "      <td>0</td>\n",
       "      <td>1</td>\n",
       "    </tr>\n",
       "    <tr>\n",
       "      <th>3770</th>\n",
       "      <td>1.009188</td>\n",
       "      <td>-1.883721e-01</td>\n",
       "      <td>-1.828839e-02</td>\n",
       "      <td>-7.630579e-01</td>\n",
       "      <td>-2.970839e-01</td>\n",
       "      <td>-0.748611</td>\n",
       "      <td>1</td>\n",
       "      <td>0</td>\n",
       "      <td>0</td>\n",
       "      <td>0</td>\n",
       "      <td>...</td>\n",
       "      <td>0</td>\n",
       "      <td>0</td>\n",
       "      <td>0</td>\n",
       "      <td>0</td>\n",
       "      <td>0</td>\n",
       "      <td>0</td>\n",
       "      <td>0</td>\n",
       "      <td>0</td>\n",
       "      <td>0</td>\n",
       "      <td>1</td>\n",
       "    </tr>\n",
       "    <tr>\n",
       "      <th>3771</th>\n",
       "      <td>0.610774</td>\n",
       "      <td>-1.754898e-01</td>\n",
       "      <td>2.526540e-01</td>\n",
       "      <td>-2.701891e-01</td>\n",
       "      <td>4.051182e-01</td>\n",
       "      <td>-0.589126</td>\n",
       "      <td>0</td>\n",
       "      <td>0</td>\n",
       "      <td>0</td>\n",
       "      <td>0</td>\n",
       "      <td>...</td>\n",
       "      <td>0</td>\n",
       "      <td>0</td>\n",
       "      <td>0</td>\n",
       "      <td>0</td>\n",
       "      <td>0</td>\n",
       "      <td>0</td>\n",
       "      <td>0</td>\n",
       "      <td>0</td>\n",
       "      <td>0</td>\n",
       "      <td>1</td>\n",
       "    </tr>\n",
       "  </tbody>\n",
       "</table>\n",
       "<p>3772 rows × 22 columns</p>\n",
       "</div>"
      ],
      "text/plain": [
       "           age           TSH            T3           TT4           T4U  \\\n",
       "0    -0.534665 -1.626075e-01  6.590677e-01  4.836103e-01  7.832271e-01   \n",
       "1    -1.431096 -4.237273e-02 -1.828839e-02 -1.832122e-01 -5.996931e-16   \n",
       "2    -0.285657 -1.763487e-01  6.016131e-16  1.973375e-02 -4.591306e-01   \n",
       "3     0.909584 -2.115603e-01 -1.537596e-01  1.933224e+00 -5.996931e-16   \n",
       "4     0.909584 -1.875133e-01 -1.102058e+00 -1.371896e+00 -6.751928e-01   \n",
       "...        ...           ...           ...           ...           ...   \n",
       "3767 -1.082484 -3.813927e-17  6.016131e-16  4.120051e-16 -5.996931e-16   \n",
       "3768  0.809981 -1.754898e-01  1.171828e-01  4.546180e-01  4.591338e-01   \n",
       "3769  1.108791  5.682774e-04 -2.892308e-01  1.067106e-01  4.051182e-01   \n",
       "3770  1.009188 -1.883721e-01 -1.828839e-02 -7.630579e-01 -2.970839e-01   \n",
       "3771  0.610774 -1.754898e-01  2.526540e-01 -2.701891e-01  4.051182e-01   \n",
       "\n",
       "           FTI  sex  on thyroxine  query on thyroxine  \\\n",
       "0    -0.046877    0             0                   0   \n",
       "1     0.000000    0             0                   0   \n",
       "2     0.303989    1             0                   0   \n",
       "3     0.000000    0             1                   0   \n",
       "4    -1.290860    0             0                   0   \n",
       "...        ...  ...           ...                 ...   \n",
       "3767  0.000000    0             0                   0   \n",
       "3768  0.112608    0             0                   0   \n",
       "3769 -0.174465    0             0                   0   \n",
       "3770 -0.748611    1             0                   0   \n",
       "3771 -0.589126    0             0                   0   \n",
       "\n",
       "      on antithyroid medication  ...  thyroid surgery  I131 treatment  \\\n",
       "0                             0  ...                0               0   \n",
       "1                             0  ...                0               0   \n",
       "2                             0  ...                0               0   \n",
       "3                             0  ...                0               0   \n",
       "4                             0  ...                0               0   \n",
       "...                         ...  ...              ...             ...   \n",
       "3767                          0  ...                0               0   \n",
       "3768                          0  ...                0               0   \n",
       "3769                          0  ...                0               0   \n",
       "3770                          0  ...                0               0   \n",
       "3771                          0  ...                0               0   \n",
       "\n",
       "      query hypothyroid  query hyperthyroid  lithium  goitre  tumor  \\\n",
       "0                     0                   0        0       0      0   \n",
       "1                     0                   0        0       0      0   \n",
       "2                     0                   0        0       0      0   \n",
       "3                     0                   0        0       0      0   \n",
       "4                     0                   0        0       0      0   \n",
       "...                 ...                 ...      ...     ...    ...   \n",
       "3767                  0                   0        0       0      1   \n",
       "3768                  0                   0        0       0      0   \n",
       "3769                  0                   1        0       0      0   \n",
       "3770                  0                   0        0       0      0   \n",
       "3771                  0                   0        0       0      0   \n",
       "\n",
       "      hypopituitary  psych  T3 measured  \n",
       "0                 0      0            1  \n",
       "1                 0      0            1  \n",
       "2                 0      0            0  \n",
       "3                 0      0            1  \n",
       "4                 0      0            1  \n",
       "...             ...    ...          ...  \n",
       "3767              0      0            0  \n",
       "3768              0      0            1  \n",
       "3769              0      0            1  \n",
       "3770              0      0            1  \n",
       "3771              0      0            1  \n",
       "\n",
       "[3772 rows x 22 columns]"
      ]
     },
     "execution_count": 28,
     "metadata": {},
     "output_type": "execute_result"
    }
   ],
   "source": [
    "x=df_new.drop('binaryClass',axis=1)\n",
    "x"
   ]
  },
  {
   "cell_type": "markdown",
   "id": "ba27b24b",
   "metadata": {},
   "source": [
    "# Distrubution of Target Column Values"
   ]
  },
  {
   "cell_type": "code",
   "execution_count": 29,
   "id": "29653cf1",
   "metadata": {},
   "outputs": [
    {
     "data": {
      "text/plain": [
       "binaryClass\n",
       "1              3481\n",
       "0               291\n",
       "Name: count, dtype: int64"
      ]
     },
     "execution_count": 29,
     "metadata": {},
     "output_type": "execute_result"
    }
   ],
   "source": [
    "y.value_counts()"
   ]
  },
  {
   "cell_type": "code",
   "execution_count": 31,
   "id": "dc7776e0",
   "metadata": {},
   "outputs": [
    {
     "data": {
      "image/png": "[encoded data removed]",
      "text/plain": [
       "<Figure size 600x600 with 1 Axes>"
      ]
     },
     "metadata": {},
     "output_type": "display_data"
    }
   ],
   "source": [
    "binaryClass = df['binaryClass'].value_counts()\n",
    "\n",
    "plt.figure(figsize=(6, 6))\n",
    "sns.barplot(x=binaryClass.index, y=binaryClass.values, palette='bright')\n",
    "plt.title('Target column \"Y\"', fontdict={\n",
    "          'fontname': 'Georgia', 'fontsize': 20, 'fontweight': 'bold'})\n",
    "plt.xlabel('binaryClass', fontdict={'fontname': 'Georgia', 'fontsize': 15})\n",
    "plt.ylabel('value of counts', fontdict={\n",
    "           'fontname': 'Georgia', 'fontsize': 15})\n",
    "plt.tick_params(labelsize=10)\n",
    "plt.show()"
   ]
  },
  {
   "cell_type": "markdown",
   "id": "dabf5df1",
   "metadata": {},
   "source": [
    "# Since the Data is imbalanced , need to do sampling (either Oversampling or Undersampling)"
   ]
  },
  {
   "cell_type": "code",
   "execution_count": 32,
   "id": "24768ad2",
   "metadata": {},
   "outputs": [],
   "source": [
    "import imblearn\n",
    "from imblearn.over_sampling import RandomOverSampler\n",
    "ros = RandomOverSampler(random_state=42)\n",
    "x_ros, y_ros = ros.fit_resample(x, y)"
   ]
  },
  {
   "cell_type": "code",
   "execution_count": 33,
   "id": "be87a1f1",
   "metadata": {},
   "outputs": [],
   "source": [
    "x=x_ros\n",
    "y=y_ros"
   ]
  },
  {
   "cell_type": "code",
   "execution_count": 34,
   "id": "72f18b0e",
   "metadata": {},
   "outputs": [
    {
     "data": {
      "text/plain": [
       "binaryClass\n",
       "0              3481\n",
       "1              3481\n",
       "Name: count, dtype: int64"
      ]
     },
     "execution_count": 34,
     "metadata": {},
     "output_type": "execute_result"
    }
   ],
   "source": [
    "y.value_counts()     "
   ]
  },
  {
   "cell_type": "markdown",
   "id": "ed8f9a37",
   "metadata": {},
   "source": [
    "# Importing the models and Train them"
   ]
  },
  {
   "cell_type": "code",
   "execution_count": 35,
   "id": "0233f529",
   "metadata": {},
   "outputs": [],
   "source": [
    "from sklearn.linear_model import LogisticRegression\n",
    "from sklearn.neighbors import KNeighborsClassifier\n",
    "from sklearn.tree import DecisionTreeClassifier\n",
    "from sklearn.ensemble import RandomForestClassifier\n",
    "from sklearn.svm import SVC\n",
    "from sklearn.metrics import classification_report\n",
    "from sklearn.metrics import accuracy_score\n",
    "import warnings\n",
    "warnings.filterwarnings('ignore')"
   ]
  },
  {
   "cell_type": "markdown",
   "id": "581524e0",
   "metadata": {},
   "source": [
    "# Spliting training and testing Data"
   ]
  },
  {
   "cell_type": "code",
   "execution_count": 36,
   "id": "317bd342",
   "metadata": {},
   "outputs": [],
   "source": [
    "from sklearn.model_selection import train_test_split\n",
    "x_train,x_test,y_train,y_test = train_test_split(x,y,test_size=0.3,random_state=42)"
   ]
  },
  {
   "cell_type": "code",
   "execution_count": 37,
   "id": "e90de924",
   "metadata": {},
   "outputs": [],
   "source": [
    "logreg = LogisticRegression()\n",
    "knn = KNeighborsClassifier()\n",
    "dt = DecisionTreeClassifier()\n",
    "svm = SVC()\n",
    "rf = RandomForestClassifier()"
   ]
  },
  {
   "cell_type": "code",
   "execution_count": 38,
   "id": "bfffcf1f",
   "metadata": {},
   "outputs": [],
   "source": [
    "def mymodel(model):\n",
    "    model.fit(x_train,y_train)\n",
    "    y_pred = model.predict(x_test)\n",
    "    print(classification_report(y_test,y_pred))\n",
    "    return model"
   ]
  },
  {
   "cell_type": "markdown",
   "id": "6503ded1",
   "metadata": {},
   "source": [
    "# Logistic Regression"
   ]
  },
  {
   "cell_type": "code",
   "execution_count": 39,
   "id": "2934590b",
   "metadata": {},
   "outputs": [
    {
     "name": "stdout",
     "output_type": "stream",
     "text": [
      "              precision    recall  f1-score   support\n",
      "\n",
      "           0       0.97      0.96      0.97      1032\n",
      "           1       0.96      0.97      0.97      1057\n",
      "\n",
      "    accuracy                           0.97      2089\n",
      "   macro avg       0.97      0.97      0.97      2089\n",
      "weighted avg       0.97      0.97      0.97      2089\n",
      "\n"
     ]
    },
    {
     "data": {
      "text/html": [
       "<style>#sk-container-id-1 {color: black;background-color: white;}#sk-container-id-1 pre{padding: 0;}#sk-container-id-1 div.sk-toggleable {background-color: white;}#sk-container-id-1 label.sk-toggleable__label {cursor: pointer;display: block;width: 100%;margin-bottom: 0;padding: 0.3em;box-sizing: border-box;text-align: center;}#sk-container-id-1 label.sk-toggleable__label-arrow:before {content: \"▸\";float: left;margin-right: 0.25em;color: #696969;}#sk-container-id-1 label.sk-toggleable__label-arrow:hover:before {color: black;}#sk-container-id-1 div.sk-estimator:hover label.sk-toggleable__label-arrow:before {color: black;}#sk-container-id-1 div.sk-toggleable__content {max-height: 0;max-width: 0;overflow: hidden;text-align: left;background-color: #f0f8ff;}#sk-container-id-1 div.sk-toggleable__content pre {margin: 0.2em;color: black;border-radius: 0.25em;background-color: #f0f8ff;}#sk-container-id-1 input.sk-toggleable__control:checked~div.sk-toggleable__content {max-height: 200px;max-width: 100%;overflow: auto;}#sk-container-id-1 input.sk-toggleable__control:checked~label.sk-toggleable__label-arrow:before {content: \"▾\";}#sk-container-id-1 div.sk-estimator input.sk-toggleable__control:checked~label.sk-toggleable__label {background-color: #d4ebff;}#sk-container-id-1 div.sk-label input.sk-toggleable__control:checked~label.sk-toggleable__label {background-color: #d4ebff;}#sk-container-id-1 input.sk-hidden--visually {border: 0;clip: rect(1px 1px 1px 1px);clip: rect(1px, 1px, 1px, 1px);height: 1px;margin: -1px;overflow: hidden;padding: 0;position: absolute;width: 1px;}#sk-container-id-1 div.sk-estimator {font-family: monospace;background-color: #f0f8ff;border: 1px dotted black;border-radius: 0.25em;box-sizing: border-box;margin-bottom: 0.5em;}#sk-container-id-1 div.sk-estimator:hover {background-color: #d4ebff;}#sk-container-id-1 div.sk-parallel-item::after {content: \"\";width: 100%;border-bottom: 1px solid gray;flex-grow: 1;}#sk-container-id-1 div.sk-label:hover label.sk-toggleable__label {background-color: #d4ebff;}#sk-container-id-1 div.sk-serial::before {content: \"\";position: absolute;border-left: 1px solid gray;box-sizing: border-box;top: 0;bottom: 0;left: 50%;z-index: 0;}#sk-container-id-1 div.sk-serial {display: flex;flex-direction: column;align-items: center;background-color: white;padding-right: 0.2em;padding-left: 0.2em;position: relative;}#sk-container-id-1 div.sk-item {position: relative;z-index: 1;}#sk-container-id-1 div.sk-parallel {display: flex;align-items: stretch;justify-content: center;background-color: white;position: relative;}#sk-container-id-1 div.sk-item::before, #sk-container-id-1 div.sk-parallel-item::before {content: \"\";position: absolute;border-left: 1px solid gray;box-sizing: border-box;top: 0;bottom: 0;left: 50%;z-index: -1;}#sk-container-id-1 div.sk-parallel-item {display: flex;flex-direction: column;z-index: 1;position: relative;background-color: white;}#sk-container-id-1 div.sk-parallel-item:first-child::after {align-self: flex-end;width: 50%;}#sk-container-id-1 div.sk-parallel-item:last-child::after {align-self: flex-start;width: 50%;}#sk-container-id-1 div.sk-parallel-item:only-child::after {width: 0;}#sk-container-id-1 div.sk-dashed-wrapped {border: 1px dashed gray;margin: 0 0.4em 0.5em 0.4em;box-sizing: border-box;padding-bottom: 0.4em;background-color: white;}#sk-container-id-1 div.sk-label label {font-family: monospace;font-weight: bold;display: inline-block;line-height: 1.2em;}#sk-container-id-1 div.sk-label-container {text-align: center;}#sk-container-id-1 div.sk-container {/* jupyter's `normalize.less` sets `[hidden] { display: none; }` but bootstrap.min.css set `[hidden] { display: none !important; }` so we also need the `!important` here to be able to override the default hidden behavior on the sphinx rendered scikit-learn.org. See: https://github.com/scikit-learn/scikit-learn/issues/21755 */display: inline-block !important;position: relative;}#sk-container-id-1 div.sk-text-repr-fallback {display: none;}</style><div id=\"sk-container-id-1\" class=\"sk-top-container\"><div class=\"sk-text-repr-fallback\"><pre>LogisticRegression()</pre><b>In a Jupyter environment, please rerun this cell to show the HTML representation or trust the notebook. <br />On GitHub, the HTML representation is unable to render, please try loading this page with nbviewer.org.</b></div><div class=\"sk-container\" hidden><div class=\"sk-item\"><div class=\"sk-estimator sk-toggleable\"><input class=\"sk-toggleable__control sk-hidden--visually\" id=\"sk-estimator-id-1\" type=\"checkbox\" checked><label for=\"sk-estimator-id-1\" class=\"sk-toggleable__label sk-toggleable__label-arrow\">LogisticRegression</label><div class=\"sk-toggleable__content\"><pre>LogisticRegression()</pre></div></div></div></div></div>"
      ],
      "text/plain": [
       "LogisticRegression()"
      ]
     },
     "execution_count": 39,
     "metadata": {},
     "output_type": "execute_result"
    }
   ],
   "source": [
    "mymodel(logreg)"
   ]
  },
  {
   "cell_type": "markdown",
   "id": "693479ca",
   "metadata": {},
   "source": [
    "### Accuracy score on the train data"
   ]
  },
  {
   "cell_type": "code",
   "execution_count": 40,
   "id": "4702cd96",
   "metadata": {},
   "outputs": [
    {
     "name": "stdout",
     "output_type": "stream",
     "text": [
      "Accuracy score of the training data :  97.17 %\n"
     ]
    }
   ],
   "source": [
    "y_pred = logreg.predict(x_train)\n",
    "Train_Accuracy_lr = accuracy_score(y_pred, y_train)\n",
    "print('Accuracy score of the training data : ', round(Train_Accuracy_lr*100,2),\"%\")"
   ]
  },
  {
   "cell_type": "markdown",
   "id": "940f1711",
   "metadata": {},
   "source": [
    "### Accuracy score on the test data"
   ]
  },
  {
   "cell_type": "code",
   "execution_count": 41,
   "id": "df1773db",
   "metadata": {},
   "outputs": [
    {
     "name": "stdout",
     "output_type": "stream",
     "text": [
      "Accuracy score of the test data :  96.65 %\n"
     ]
    }
   ],
   "source": [
    "y_pred_on_test_data = logreg.predict(x_test)\n",
    "Test_Accuracy_lr = accuracy_score(y_pred_on_test_data, y_test)\n",
    "print('Accuracy score of the test data : ', round(Test_Accuracy_lr*100,2),\"%\")"
   ]
  },
  {
   "cell_type": "markdown",
   "id": "8b79bc95",
   "metadata": {},
   "source": [
    "# KNN"
   ]
  },
  {
   "cell_type": "code",
   "execution_count": 42,
   "id": "54e5eccd",
   "metadata": {},
   "outputs": [
    {
     "name": "stdout",
     "output_type": "stream",
     "text": [
      "              precision    recall  f1-score   support\n",
      "\n",
      "           0       0.92      1.00      0.96      1032\n",
      "           1       1.00      0.91      0.95      1057\n",
      "\n",
      "    accuracy                           0.95      2089\n",
      "   macro avg       0.96      0.95      0.95      2089\n",
      "weighted avg       0.96      0.95      0.95      2089\n",
      "\n"
     ]
    },
    {
     "data": {
      "text/html": [
       "<style>#sk-container-id-2 {color: black;background-color: white;}#sk-container-id-2 pre{padding: 0;}#sk-container-id-2 div.sk-toggleable {background-color: white;}#sk-container-id-2 label.sk-toggleable__label {cursor: pointer;display: block;width: 100%;margin-bottom: 0;padding: 0.3em;box-sizing: border-box;text-align: center;}#sk-container-id-2 label.sk-toggleable__label-arrow:before {content: \"▸\";float: left;margin-right: 0.25em;color: #696969;}#sk-container-id-2 label.sk-toggleable__label-arrow:hover:before {color: black;}#sk-container-id-2 div.sk-estimator:hover label.sk-toggleable__label-arrow:before {color: black;}#sk-container-id-2 div.sk-toggleable__content {max-height: 0;max-width: 0;overflow: hidden;text-align: left;background-color: #f0f8ff;}#sk-container-id-2 div.sk-toggleable__content pre {margin: 0.2em;color: black;border-radius: 0.25em;background-color: #f0f8ff;}#sk-container-id-2 input.sk-toggleable__control:checked~div.sk-toggleable__content {max-height: 200px;max-width: 100%;overflow: auto;}#sk-container-id-2 input.sk-toggleable__control:checked~label.sk-toggleable__label-arrow:before {content: \"▾\";}#sk-container-id-2 div.sk-estimator input.sk-toggleable__control:checked~label.sk-toggleable__label {background-color: #d4ebff;}#sk-container-id-2 div.sk-label input.sk-toggleable__control:checked~label.sk-toggleable__label {background-color: #d4ebff;}#sk-container-id-2 input.sk-hidden--visually {border: 0;clip: rect(1px 1px 1px 1px);clip: rect(1px, 1px, 1px, 1px);height: 1px;margin: -1px;overflow: hidden;padding: 0;position: absolute;width: 1px;}#sk-container-id-2 div.sk-estimator {font-family: monospace;background-color: #f0f8ff;border: 1px dotted black;border-radius: 0.25em;box-sizing: border-box;margin-bottom: 0.5em;}#sk-container-id-2 div.sk-estimator:hover {background-color: #d4ebff;}#sk-container-id-2 div.sk-parallel-item::after {content: \"\";width: 100%;border-bottom: 1px solid gray;flex-grow: 1;}#sk-container-id-2 div.sk-label:hover label.sk-toggleable__label {background-color: #d4ebff;}#sk-container-id-2 div.sk-serial::before {content: \"\";position: absolute;border-left: 1px solid gray;box-sizing: border-box;top: 0;bottom: 0;left: 50%;z-index: 0;}#sk-container-id-2 div.sk-serial {display: flex;flex-direction: column;align-items: center;background-color: white;padding-right: 0.2em;padding-left: 0.2em;position: relative;}#sk-container-id-2 div.sk-item {position: relative;z-index: 1;}#sk-container-id-2 div.sk-parallel {display: flex;align-items: stretch;justify-content: center;background-color: white;position: relative;}#sk-container-id-2 div.sk-item::before, #sk-container-id-2 div.sk-parallel-item::before {content: \"\";position: absolute;border-left: 1px solid gray;box-sizing: border-box;top: 0;bottom: 0;left: 50%;z-index: -1;}#sk-container-id-2 div.sk-parallel-item {display: flex;flex-direction: column;z-index: 1;position: relative;background-color: white;}#sk-container-id-2 div.sk-parallel-item:first-child::after {align-self: flex-end;width: 50%;}#sk-container-id-2 div.sk-parallel-item:last-child::after {align-self: flex-start;width: 50%;}#sk-container-id-2 div.sk-parallel-item:only-child::after {width: 0;}#sk-container-id-2 div.sk-dashed-wrapped {border: 1px dashed gray;margin: 0 0.4em 0.5em 0.4em;box-sizing: border-box;padding-bottom: 0.4em;background-color: white;}#sk-container-id-2 div.sk-label label {font-family: monospace;font-weight: bold;display: inline-block;line-height: 1.2em;}#sk-container-id-2 div.sk-label-container {text-align: center;}#sk-container-id-2 div.sk-container {/* jupyter's `normalize.less` sets `[hidden] { display: none; }` but bootstrap.min.css set `[hidden] { display: none !important; }` so we also need the `!important` here to be able to override the default hidden behavior on the sphinx rendered scikit-learn.org. See: https://github.com/scikit-learn/scikit-learn/issues/21755 */display: inline-block !important;position: relative;}#sk-container-id-2 div.sk-text-repr-fallback {display: none;}</style><div id=\"sk-container-id-2\" class=\"sk-top-container\"><div class=\"sk-text-repr-fallback\"><pre>KNeighborsClassifier()</pre><b>In a Jupyter environment, please rerun this cell to show the HTML representation or trust the notebook. <br />On GitHub, the HTML representation is unable to render, please try loading this page with nbviewer.org.</b></div><div class=\"sk-container\" hidden><div class=\"sk-item\"><div class=\"sk-estimator sk-toggleable\"><input class=\"sk-toggleable__control sk-hidden--visually\" id=\"sk-estimator-id-2\" type=\"checkbox\" checked><label for=\"sk-estimator-id-2\" class=\"sk-toggleable__label sk-toggleable__label-arrow\">KNeighborsClassifier</label><div class=\"sk-toggleable__content\"><pre>KNeighborsClassifier()</pre></div></div></div></div></div>"
      ],
      "text/plain": [
       "KNeighborsClassifier()"
      ]
     },
     "execution_count": 42,
     "metadata": {},
     "output_type": "execute_result"
    }
   ],
   "source": [
    "mymodel(knn)"
   ]
  },
  {
   "cell_type": "markdown",
   "id": "cfe55e23",
   "metadata": {},
   "source": [
    "### Accuracy score on the train data"
   ]
  },
  {
   "cell_type": "code",
   "execution_count": 43,
   "id": "3ab66f32",
   "metadata": {},
   "outputs": [
    {
     "name": "stdout",
     "output_type": "stream",
     "text": [
      "Accuracy score of the training data :  96.47 %\n"
     ]
    }
   ],
   "source": [
    "y_pred = knn.predict(x_train)\n",
    "Train_Accuracy_kn = accuracy_score(y_pred, y_train)\n",
    "print('Accuracy score of the training data : ', round(Train_Accuracy_kn*100,2),\"%\")"
   ]
  },
  {
   "cell_type": "markdown",
   "id": "4be02beb",
   "metadata": {},
   "source": [
    "### Accuracy score on the test data"
   ]
  },
  {
   "cell_type": "code",
   "execution_count": 44,
   "id": "6bf49269",
   "metadata": {},
   "outputs": [
    {
     "name": "stdout",
     "output_type": "stream",
     "text": [
      "Accuracy score of the test data :  95.36 %\n"
     ]
    }
   ],
   "source": [
    "y_pred_on_test_data = knn.predict(x_test)\n",
    "Test_Accuracy_kn = accuracy_score(y_pred_on_test_data, y_test)\n",
    "print('Accuracy score of the test data : ', round(Test_Accuracy_kn*100,2),\"%\")"
   ]
  },
  {
   "cell_type": "markdown",
   "id": "19893772",
   "metadata": {},
   "source": [
    "# Decision Tree"
   ]
  },
  {
   "cell_type": "code",
   "execution_count": 45,
   "id": "ec9e0b51",
   "metadata": {},
   "outputs": [
    {
     "name": "stdout",
     "output_type": "stream",
     "text": [
      "              precision    recall  f1-score   support\n",
      "\n",
      "           0       1.00      1.00      1.00      1032\n",
      "           1       1.00      1.00      1.00      1057\n",
      "\n",
      "    accuracy                           1.00      2089\n",
      "   macro avg       1.00      1.00      1.00      2089\n",
      "weighted avg       1.00      1.00      1.00      2089\n",
      "\n"
     ]
    },
    {
     "data": {
      "text/html": [
       "<style>#sk-container-id-3 {color: black;background-color: white;}#sk-container-id-3 pre{padding: 0;}#sk-container-id-3 div.sk-toggleable {background-color: white;}#sk-container-id-3 label.sk-toggleable__label {cursor: pointer;display: block;width: 100%;margin-bottom: 0;padding: 0.3em;box-sizing: border-box;text-align: center;}#sk-container-id-3 label.sk-toggleable__label-arrow:before {content: \"▸\";float: left;margin-right: 0.25em;color: #696969;}#sk-container-id-3 label.sk-toggleable__label-arrow:hover:before {color: black;}#sk-container-id-3 div.sk-estimator:hover label.sk-toggleable__label-arrow:before {color: black;}#sk-container-id-3 div.sk-toggleable__content {max-height: 0;max-width: 0;overflow: hidden;text-align: left;background-color: #f0f8ff;}#sk-container-id-3 div.sk-toggleable__content pre {margin: 0.2em;color: black;border-radius: 0.25em;background-color: #f0f8ff;}#sk-container-id-3 input.sk-toggleable__control:checked~div.sk-toggleable__content {max-height: 200px;max-width: 100%;overflow: auto;}#sk-container-id-3 input.sk-toggleable__control:checked~label.sk-toggleable__label-arrow:before {content: \"▾\";}#sk-container-id-3 div.sk-estimator input.sk-toggleable__control:checked~label.sk-toggleable__label {background-color: #d4ebff;}#sk-container-id-3 div.sk-label input.sk-toggleable__control:checked~label.sk-toggleable__label {background-color: #d4ebff;}#sk-container-id-3 input.sk-hidden--visually {border: 0;clip: rect(1px 1px 1px 1px);clip: rect(1px, 1px, 1px, 1px);height: 1px;margin: -1px;overflow: hidden;padding: 0;position: absolute;width: 1px;}#sk-container-id-3 div.sk-estimator {font-family: monospace;background-color: #f0f8ff;border: 1px dotted black;border-radius: 0.25em;box-sizing: border-box;margin-bottom: 0.5em;}#sk-container-id-3 div.sk-estimator:hover {background-color: #d4ebff;}#sk-container-id-3 div.sk-parallel-item::after {content: \"\";width: 100%;border-bottom: 1px solid gray;flex-grow: 1;}#sk-container-id-3 div.sk-label:hover label.sk-toggleable__label {background-color: #d4ebff;}#sk-container-id-3 div.sk-serial::before {content: \"\";position: absolute;border-left: 1px solid gray;box-sizing: border-box;top: 0;bottom: 0;left: 50%;z-index: 0;}#sk-container-id-3 div.sk-serial {display: flex;flex-direction: column;align-items: center;background-color: white;padding-right: 0.2em;padding-left: 0.2em;position: relative;}#sk-container-id-3 div.sk-item {position: relative;z-index: 1;}#sk-container-id-3 div.sk-parallel {display: flex;align-items: stretch;justify-content: center;background-color: white;position: relative;}#sk-container-id-3 div.sk-item::before, #sk-container-id-3 div.sk-parallel-item::before {content: \"\";position: absolute;border-left: 1px solid gray;box-sizing: border-box;top: 0;bottom: 0;left: 50%;z-index: -1;}#sk-container-id-3 div.sk-parallel-item {display: flex;flex-direction: column;z-index: 1;position: relative;background-color: white;}#sk-container-id-3 div.sk-parallel-item:first-child::after {align-self: flex-end;width: 50%;}#sk-container-id-3 div.sk-parallel-item:last-child::after {align-self: flex-start;width: 50%;}#sk-container-id-3 div.sk-parallel-item:only-child::after {width: 0;}#sk-container-id-3 div.sk-dashed-wrapped {border: 1px dashed gray;margin: 0 0.4em 0.5em 0.4em;box-sizing: border-box;padding-bottom: 0.4em;background-color: white;}#sk-container-id-3 div.sk-label label {font-family: monospace;font-weight: bold;display: inline-block;line-height: 1.2em;}#sk-container-id-3 div.sk-label-container {text-align: center;}#sk-container-id-3 div.sk-container {/* jupyter's `normalize.less` sets `[hidden] { display: none; }` but bootstrap.min.css set `[hidden] { display: none !important; }` so we also need the `!important` here to be able to override the default hidden behavior on the sphinx rendered scikit-learn.org. See: https://github.com/scikit-learn/scikit-learn/issues/21755 */display: inline-block !important;position: relative;}#sk-container-id-3 div.sk-text-repr-fallback {display: none;}</style><div id=\"sk-container-id-3\" class=\"sk-top-container\"><div class=\"sk-text-repr-fallback\"><pre>DecisionTreeClassifier()</pre><b>In a Jupyter environment, please rerun this cell to show the HTML representation or trust the notebook. <br />On GitHub, the HTML representation is unable to render, please try loading this page with nbviewer.org.</b></div><div class=\"sk-container\" hidden><div class=\"sk-item\"><div class=\"sk-estimator sk-toggleable\"><input class=\"sk-toggleable__control sk-hidden--visually\" id=\"sk-estimator-id-3\" type=\"checkbox\" checked><label for=\"sk-estimator-id-3\" class=\"sk-toggleable__label sk-toggleable__label-arrow\">DecisionTreeClassifier</label><div class=\"sk-toggleable__content\"><pre>DecisionTreeClassifier()</pre></div></div></div></div></div>"
      ],
      "text/plain": [
       "DecisionTreeClassifier()"
      ]
     },
     "execution_count": 45,
     "metadata": {},
     "output_type": "execute_result"
    }
   ],
   "source": [
    "mymodel(dt)"
   ]
  },
  {
   "cell_type": "markdown",
   "id": "2db76382",
   "metadata": {},
   "source": [
    "### Accuracy score on the train data"
   ]
  },
  {
   "cell_type": "code",
   "execution_count": 46,
   "id": "1bc1e500",
   "metadata": {},
   "outputs": [
    {
     "name": "stdout",
     "output_type": "stream",
     "text": [
      "Accuracy score of the training data :  100.0 %\n"
     ]
    }
   ],
   "source": [
    "y_pred = dt.predict(x_train)\n",
    "Train_Accuracy_dt = accuracy_score(y_pred, y_train)\n",
    "print('Accuracy score of the training data : ', round(Train_Accuracy_dt*100,2),\"%\")"
   ]
  },
  {
   "cell_type": "markdown",
   "id": "a96c44b3",
   "metadata": {},
   "source": [
    "### Accuracy score on the test data"
   ]
  },
  {
   "cell_type": "code",
   "execution_count": 47,
   "id": "52b84fbe",
   "metadata": {},
   "outputs": [
    {
     "name": "stdout",
     "output_type": "stream",
     "text": [
      "Accuracy score of the test data :  99.95 %\n"
     ]
    }
   ],
   "source": [
    "y_pred_on_test_data = dt.predict(x_test)\n",
    "Test_Accuracy_dt = accuracy_score(y_pred_on_test_data, y_test)\n",
    "print('Accuracy score of the test data : ', round(Test_Accuracy_dt*100,2),\"%\")"
   ]
  },
  {
   "cell_type": "markdown",
   "id": "130e8d2d",
   "metadata": {},
   "source": [
    "# Pruning techniques --> to solve the overfitting (hyper tunning)"
   ]
  },
  {
   "cell_type": "markdown",
   "id": "2f261c06",
   "metadata": {},
   "source": [
    "## Max-Depth"
   ]
  },
  {
   "cell_type": "code",
   "execution_count": 48,
   "id": "ed471e91",
   "metadata": {},
   "outputs": [
    {
     "name": "stdout",
     "output_type": "stream",
     "text": [
      "1 - 0.9837242699856391\n",
      "2 - 0.9842029679272379\n",
      "3 - 0.9961704164672092\n",
      "4 - 0.9971278123504069\n",
      "5 - 0.9971278123504069\n",
      "6 - 0.9990426041168023\n",
      "7 - 0.9985639061752034\n",
      "8 - 0.9995213020584012\n",
      "9 - 0.9995213020584012\n",
      "10 - 0.9995213020584012\n",
      "11 - 0.9995213020584012\n",
      "12 - 0.9995213020584012\n",
      "13 - 0.9995213020584012\n",
      "14 - 0.9995213020584012\n",
      "15 - 0.9990426041168023\n",
      "16 - 0.9995213020584012\n",
      "17 - 0.9995213020584012\n",
      "18 - 0.9990426041168023\n",
      "19 - 0.9995213020584012\n",
      "20 - 0.9995213020584012\n",
      "21 - 0.9990426041168023\n",
      "22 - 0.9995213020584012\n",
      "23 - 0.9990426041168023\n",
      "24 - 0.9995213020584012\n",
      "25 - 0.9995213020584012\n",
      "26 - 0.9995213020584012\n",
      "27 - 0.9990426041168023\n",
      "28 - 0.9995213020584012\n",
      "29 - 0.9995213020584012\n"
     ]
    }
   ],
   "source": [
    "for i in range(1, 30):\n",
    "    dt1=DecisionTreeClassifier(max_depth=i)\n",
    "    dt1.fit(x_train, y_train)\n",
    "    ypred=dt1.predict(x_test)\n",
    "\n",
    "    ac=accuracy_score(y_test, ypred)\n",
    "    print(f'{i} - {ac}')"
   ]
  },
  {
   "cell_type": "code",
   "execution_count": 49,
   "id": "e8dc2d6e",
   "metadata": {},
   "outputs": [],
   "source": [
    "dt2=DecisionTreeClassifier(max_depth=2)\n",
    "dt2.fit(x_train, y_train)\n",
    "ypred=dt2.predict(x_test)"
   ]
  },
  {
   "cell_type": "code",
   "execution_count": 50,
   "id": "88277fd2",
   "metadata": {},
   "outputs": [
    {
     "data": {
      "text/plain": [
       "0.9864559819413092"
      ]
     },
     "execution_count": 50,
     "metadata": {},
     "output_type": "execute_result"
    }
   ],
   "source": [
    "dt2.score(x_train, y_train)"
   ]
  },
  {
   "cell_type": "code",
   "execution_count": 51,
   "id": "8b102b8f",
   "metadata": {},
   "outputs": [
    {
     "data": {
      "text/plain": [
       "0.9842029679272379"
      ]
     },
     "execution_count": 51,
     "metadata": {},
     "output_type": "execute_result"
    }
   ],
   "source": [
    "dt2.score(x_test, y_test)"
   ]
  },
  {
   "cell_type": "markdown",
   "id": "536c894b",
   "metadata": {},
   "source": [
    "### Min_sample_split()"
   ]
  },
  {
   "cell_type": "code",
   "execution_count": 52,
   "id": "7bc64d2e",
   "metadata": {},
   "outputs": [
    {
     "name": "stdout",
     "output_type": "stream",
     "text": [
      "31 - 0.9961704164672092\n",
      "32 - 0.9956917185256103\n",
      "33 - 0.9961704164672092\n",
      "34 - 0.9956917185256103\n",
      "35 - 0.9956917185256103\n",
      "36 - 0.9956917185256103\n",
      "37 - 0.9961704164672092\n",
      "38 - 0.9961704164672092\n",
      "39 - 0.9956917185256103\n",
      "40 - 0.9956917185256103\n",
      "41 - 0.9952130205840115\n",
      "42 - 0.9952130205840115\n",
      "43 - 0.9952130205840115\n",
      "44 - 0.9952130205840115\n",
      "45 - 0.9952130205840115\n",
      "46 - 0.9952130205840115\n",
      "47 - 0.9952130205840115\n",
      "48 - 0.9952130205840115\n",
      "49 - 0.9952130205840115\n"
     ]
    }
   ],
   "source": [
    "for i in range(31,50):\n",
    "    dt3=DecisionTreeClassifier(min_samples_split=i)\n",
    "    dt3.fit(x_train, y_train)\n",
    "    ypred=dt3.predict(x_test)\n",
    "\n",
    "    ac=accuracy_score(y_test, ypred)\n",
    "    print(f'{i} - {ac}')\n",
    "    "
   ]
  },
  {
   "cell_type": "code",
   "execution_count": 53,
   "id": "2969671e",
   "metadata": {},
   "outputs": [
    {
     "data": {
      "text/plain": [
       "0.9874820439154525"
      ]
     },
     "execution_count": 53,
     "metadata": {},
     "output_type": "execute_result"
    }
   ],
   "source": [
    "dt4=DecisionTreeClassifier(min_samples_split=154)\n",
    "dt4.fit(x_train, y_train)\n",
    "ypred=dt4.predict(x_test)\n",
    "\n",
    "dt4.score(x_train, y_train)\n"
   ]
  },
  {
   "cell_type": "code",
   "execution_count": 54,
   "id": "cb6e8e0a",
   "metadata": {},
   "outputs": [
    {
     "data": {
      "text/plain": [
       "0.9865964576352322"
      ]
     },
     "execution_count": 54,
     "metadata": {},
     "output_type": "execute_result"
    }
   ],
   "source": [
    "dt4.score(x_test, y_test)"
   ]
  },
  {
   "cell_type": "markdown",
   "id": "8f73b266",
   "metadata": {},
   "source": [
    "### Min_sample_leaf"
   ]
  },
  {
   "cell_type": "code",
   "execution_count": 55,
   "id": "00cebbe7",
   "metadata": {},
   "outputs": [
    {
     "name": "stdout",
     "output_type": "stream",
     "text": [
      "31 - 0.9928195308760173\n",
      "32 - 0.9928195308760173\n",
      "33 - 0.9928195308760173\n",
      "34 - 0.9928195308760173\n",
      "35 - 0.9928195308760173\n",
      "36 - 0.9928195308760173\n",
      "37 - 0.9899473432264241\n",
      "38 - 0.9899473432264241\n",
      "39 - 0.9899473432264241\n",
      "40 - 0.9899473432264241\n",
      "41 - 0.9899473432264241\n",
      "42 - 0.9899473432264241\n",
      "43 - 0.9899473432264241\n",
      "44 - 0.9894686452848253\n",
      "45 - 0.9913834370512207\n",
      "46 - 0.9913834370512207\n",
      "47 - 0.9913834370512207\n",
      "48 - 0.9913834370512207\n",
      "49 - 0.9894686452848253\n",
      "50 - 0.9894686452848253\n",
      "51 - 0.9894686452848253\n",
      "52 - 0.9894686452848253\n",
      "53 - 0.9894686452848253\n",
      "54 - 0.9894686452848253\n",
      "55 - 0.9894686452848253\n",
      "56 - 0.9837242699856391\n",
      "57 - 0.9837242699856391\n",
      "58 - 0.9837242699856391\n",
      "59 - 0.9837242699856391\n"
     ]
    }
   ],
   "source": [
    "for i in range(31,60):\n",
    "    dt5=DecisionTreeClassifier(min_samples_leaf=i)\n",
    "    dt5.fit(x_train, y_train)\n",
    "    ypred=dt5.predict(x_test)\n",
    "\n",
    "    ac=accuracy_score(y_test, ypred)\n",
    "    print(f'{i} - {ac}')"
   ]
  },
  {
   "cell_type": "code",
   "execution_count": 56,
   "id": "402920f5",
   "metadata": {},
   "outputs": [],
   "source": [
    "dt6=DecisionTreeClassifier(min_samples_leaf=59)\n",
    "dt6.fit(x_train, y_train)\n",
    "ypred=dt6.predict(x_test)\n",
    "\n"
   ]
  },
  {
   "cell_type": "code",
   "execution_count": 57,
   "id": "0adb16e1",
   "metadata": {},
   "outputs": [
    {
     "data": {
      "text/plain": [
       "0.9856351323619946"
      ]
     },
     "execution_count": 57,
     "metadata": {},
     "output_type": "execute_result"
    }
   ],
   "source": [
    "dt6.score(x_train, y_train)\n"
   ]
  },
  {
   "cell_type": "code",
   "execution_count": 58,
   "id": "d55a207b",
   "metadata": {},
   "outputs": [
    {
     "data": {
      "text/plain": [
       "0.9837242699856391"
      ]
     },
     "execution_count": 58,
     "metadata": {},
     "output_type": "execute_result"
    }
   ],
   "source": [
    "dt6.score(x_test, y_test)\n"
   ]
  },
  {
   "cell_type": "code",
   "execution_count": 59,
   "id": "1b77e266",
   "metadata": {},
   "outputs": [
    {
     "name": "stdout",
     "output_type": "stream",
     "text": [
      "              precision    recall  f1-score   support\n",
      "\n",
      "           0       0.97      1.00      0.98      1032\n",
      "           1       1.00      0.97      0.98      1057\n",
      "\n",
      "    accuracy                           0.98      2089\n",
      "   macro avg       0.98      0.98      0.98      2089\n",
      "weighted avg       0.98      0.98      0.98      2089\n",
      "\n"
     ]
    }
   ],
   "source": [
    "from sklearn.metrics import classification_report\n",
    "print(classification_report(y_test,ypred))"
   ]
  },
  {
   "cell_type": "code",
   "execution_count": 60,
   "id": "372d0b08",
   "metadata": {},
   "outputs": [
    {
     "name": "stdout",
     "output_type": "stream",
     "text": [
      "Accuracy score of the training data :  98.56 %\n"
     ]
    }
   ],
   "source": [
    "y_pred = dt6.predict(x_train)\n",
    "Train_Accuracy_dt6 = accuracy_score(y_pred, y_train)\n",
    "print('Accuracy score of the training data : ', round(Train_Accuracy_dt6*100,2),\"%\")"
   ]
  },
  {
   "cell_type": "code",
   "execution_count": 61,
   "id": "65a3adf1",
   "metadata": {},
   "outputs": [
    {
     "name": "stdout",
     "output_type": "stream",
     "text": [
      "Accuracy score of the test data :  98.37 %\n"
     ]
    }
   ],
   "source": [
    "y_pred_on_test_data = dt6.predict(x_test)\n",
    "Test_Accuracy_dt6 = accuracy_score(y_pred_on_test_data, y_test)\n",
    "print('Accuracy score of the test data : ', round(Test_Accuracy_dt6*100,2),\"%\")"
   ]
  },
  {
   "cell_type": "markdown",
   "id": "57d35ade",
   "metadata": {},
   "source": [
    "# Random forest"
   ]
  },
  {
   "cell_type": "code",
   "execution_count": 62,
   "id": "ba929060",
   "metadata": {},
   "outputs": [
    {
     "name": "stdout",
     "output_type": "stream",
     "text": [
      "              precision    recall  f1-score   support\n",
      "\n",
      "           0       0.99      1.00      1.00      1032\n",
      "           1       1.00      0.99      1.00      1057\n",
      "\n",
      "    accuracy                           1.00      2089\n",
      "   macro avg       1.00      1.00      1.00      2089\n",
      "weighted avg       1.00      1.00      1.00      2089\n",
      "\n"
     ]
    },
    {
     "data": {
      "text/html": [
       "<style>#sk-container-id-4 {color: black;background-color: white;}#sk-container-id-4 pre{padding: 0;}#sk-container-id-4 div.sk-toggleable {background-color: white;}#sk-container-id-4 label.sk-toggleable__label {cursor: pointer;display: block;width: 100%;margin-bottom: 0;padding: 0.3em;box-sizing: border-box;text-align: center;}#sk-container-id-4 label.sk-toggleable__label-arrow:before {content: \"▸\";float: left;margin-right: 0.25em;color: #696969;}#sk-container-id-4 label.sk-toggleable__label-arrow:hover:before {color: black;}#sk-container-id-4 div.sk-estimator:hover label.sk-toggleable__label-arrow:before {color: black;}#sk-container-id-4 div.sk-toggleable__content {max-height: 0;max-width: 0;overflow: hidden;text-align: left;background-color: #f0f8ff;}#sk-container-id-4 div.sk-toggleable__content pre {margin: 0.2em;color: black;border-radius: 0.25em;background-color: #f0f8ff;}#sk-container-id-4 input.sk-toggleable__control:checked~div.sk-toggleable__content {max-height: 200px;max-width: 100%;overflow: auto;}#sk-container-id-4 input.sk-toggleable__control:checked~label.sk-toggleable__label-arrow:before {content: \"▾\";}#sk-container-id-4 div.sk-estimator input.sk-toggleable__control:checked~label.sk-toggleable__label {background-color: #d4ebff;}#sk-container-id-4 div.sk-label input.sk-toggleable__control:checked~label.sk-toggleable__label {background-color: #d4ebff;}#sk-container-id-4 input.sk-hidden--visually {border: 0;clip: rect(1px 1px 1px 1px);clip: rect(1px, 1px, 1px, 1px);height: 1px;margin: -1px;overflow: hidden;padding: 0;position: absolute;width: 1px;}#sk-container-id-4 div.sk-estimator {font-family: monospace;background-color: #f0f8ff;border: 1px dotted black;border-radius: 0.25em;box-sizing: border-box;margin-bottom: 0.5em;}#sk-container-id-4 div.sk-estimator:hover {background-color: #d4ebff;}#sk-container-id-4 div.sk-parallel-item::after {content: \"\";width: 100%;border-bottom: 1px solid gray;flex-grow: 1;}#sk-container-id-4 div.sk-label:hover label.sk-toggleable__label {background-color: #d4ebff;}#sk-container-id-4 div.sk-serial::before {content: \"\";position: absolute;border-left: 1px solid gray;box-sizing: border-box;top: 0;bottom: 0;left: 50%;z-index: 0;}#sk-container-id-4 div.sk-serial {display: flex;flex-direction: column;align-items: center;background-color: white;padding-right: 0.2em;padding-left: 0.2em;position: relative;}#sk-container-id-4 div.sk-item {position: relative;z-index: 1;}#sk-container-id-4 div.sk-parallel {display: flex;align-items: stretch;justify-content: center;background-color: white;position: relative;}#sk-container-id-4 div.sk-item::before, #sk-container-id-4 div.sk-parallel-item::before {content: \"\";position: absolute;border-left: 1px solid gray;box-sizing: border-box;top: 0;bottom: 0;left: 50%;z-index: -1;}#sk-container-id-4 div.sk-parallel-item {display: flex;flex-direction: column;z-index: 1;position: relative;background-color: white;}#sk-container-id-4 div.sk-parallel-item:first-child::after {align-self: flex-end;width: 50%;}#sk-container-id-4 div.sk-parallel-item:last-child::after {align-self: flex-start;width: 50%;}#sk-container-id-4 div.sk-parallel-item:only-child::after {width: 0;}#sk-container-id-4 div.sk-dashed-wrapped {border: 1px dashed gray;margin: 0 0.4em 0.5em 0.4em;box-sizing: border-box;padding-bottom: 0.4em;background-color: white;}#sk-container-id-4 div.sk-label label {font-family: monospace;font-weight: bold;display: inline-block;line-height: 1.2em;}#sk-container-id-4 div.sk-label-container {text-align: center;}#sk-container-id-4 div.sk-container {/* jupyter's `normalize.less` sets `[hidden] { display: none; }` but bootstrap.min.css set `[hidden] { display: none !important; }` so we also need the `!important` here to be able to override the default hidden behavior on the sphinx rendered scikit-learn.org. See: https://github.com/scikit-learn/scikit-learn/issues/21755 */display: inline-block !important;position: relative;}#sk-container-id-4 div.sk-text-repr-fallback {display: none;}</style><div id=\"sk-container-id-4\" class=\"sk-top-container\"><div class=\"sk-text-repr-fallback\"><pre>RandomForestClassifier()</pre><b>In a Jupyter environment, please rerun this cell to show the HTML representation or trust the notebook. <br />On GitHub, the HTML representation is unable to render, please try loading this page with nbviewer.org.</b></div><div class=\"sk-container\" hidden><div class=\"sk-item\"><div class=\"sk-estimator sk-toggleable\"><input class=\"sk-toggleable__control sk-hidden--visually\" id=\"sk-estimator-id-4\" type=\"checkbox\" checked><label for=\"sk-estimator-id-4\" class=\"sk-toggleable__label sk-toggleable__label-arrow\">RandomForestClassifier</label><div class=\"sk-toggleable__content\"><pre>RandomForestClassifier()</pre></div></div></div></div></div>"
      ],
      "text/plain": [
       "RandomForestClassifier()"
      ]
     },
     "execution_count": 62,
     "metadata": {},
     "output_type": "execute_result"
    }
   ],
   "source": [
    "mymodel(rf)"
   ]
  },
  {
   "cell_type": "markdown",
   "id": "a8035de6",
   "metadata": {},
   "source": [
    "### Accuracy score on the train data"
   ]
  },
  {
   "cell_type": "code",
   "execution_count": 63,
   "id": "f7f8ca47",
   "metadata": {},
   "outputs": [
    {
     "name": "stdout",
     "output_type": "stream",
     "text": [
      "Accuracy score of the training data :  100.0 %\n"
     ]
    }
   ],
   "source": [
    "y_pred = rf.predict(x_train)\n",
    "Train_Accuracy_rf = accuracy_score(y_pred, y_train)\n",
    "print('Accuracy score of the training data : ', round(Train_Accuracy_rf*100,2),\"%\")"
   ]
  },
  {
   "cell_type": "markdown",
   "id": "5c5b1e39",
   "metadata": {},
   "source": [
    "### Accuracy score on the test data"
   ]
  },
  {
   "cell_type": "code",
   "execution_count": 64,
   "id": "e8d25c08",
   "metadata": {},
   "outputs": [
    {
     "name": "stdout",
     "output_type": "stream",
     "text": [
      "Accuracy score of the test data :  99.66 %\n"
     ]
    }
   ],
   "source": [
    "y_pred_on_test_data = rf.predict(x_test)\n",
    "Test_Accuracy_rf = accuracy_score(y_pred_on_test_data, y_test)\n",
    "print('Accuracy score of the test data : ', round(Test_Accuracy_rf*100,2),\"%\")"
   ]
  },
  {
   "cell_type": "markdown",
   "id": "2f7f1c45",
   "metadata": {},
   "source": [
    "# SVM"
   ]
  },
  {
   "cell_type": "code",
   "execution_count": 65,
   "id": "dc1fa00e",
   "metadata": {},
   "outputs": [
    {
     "name": "stdout",
     "output_type": "stream",
     "text": [
      "              precision    recall  f1-score   support\n",
      "\n",
      "           0       0.97      0.98      0.97      1032\n",
      "           1       0.98      0.97      0.98      1057\n",
      "\n",
      "    accuracy                           0.98      2089\n",
      "   macro avg       0.98      0.98      0.98      2089\n",
      "weighted avg       0.98      0.98      0.98      2089\n",
      "\n"
     ]
    },
    {
     "data": {
      "text/html": [
       "<style>#sk-container-id-5 {color: black;background-color: white;}#sk-container-id-5 pre{padding: 0;}#sk-container-id-5 div.sk-toggleable {background-color: white;}#sk-container-id-5 label.sk-toggleable__label {cursor: pointer;display: block;width: 100%;margin-bottom: 0;padding: 0.3em;box-sizing: border-box;text-align: center;}#sk-container-id-5 label.sk-toggleable__label-arrow:before {content: \"▸\";float: left;margin-right: 0.25em;color: #696969;}#sk-container-id-5 label.sk-toggleable__label-arrow:hover:before {color: black;}#sk-container-id-5 div.sk-estimator:hover label.sk-toggleable__label-arrow:before {color: black;}#sk-container-id-5 div.sk-toggleable__content {max-height: 0;max-width: 0;overflow: hidden;text-align: left;background-color: #f0f8ff;}#sk-container-id-5 div.sk-toggleable__content pre {margin: 0.2em;color: black;border-radius: 0.25em;background-color: #f0f8ff;}#sk-container-id-5 input.sk-toggleable__control:checked~div.sk-toggleable__content {max-height: 200px;max-width: 100%;overflow: auto;}#sk-container-id-5 input.sk-toggleable__control:checked~label.sk-toggleable__label-arrow:before {content: \"▾\";}#sk-container-id-5 div.sk-estimator input.sk-toggleable__control:checked~label.sk-toggleable__label {background-color: #d4ebff;}#sk-container-id-5 div.sk-label input.sk-toggleable__control:checked~label.sk-toggleable__label {background-color: #d4ebff;}#sk-container-id-5 input.sk-hidden--visually {border: 0;clip: rect(1px 1px 1px 1px);clip: rect(1px, 1px, 1px, 1px);height: 1px;margin: -1px;overflow: hidden;padding: 0;position: absolute;width: 1px;}#sk-container-id-5 div.sk-estimator {font-family: monospace;background-color: #f0f8ff;border: 1px dotted black;border-radius: 0.25em;box-sizing: border-box;margin-bottom: 0.5em;}#sk-container-id-5 div.sk-estimator:hover {background-color: #d4ebff;}#sk-container-id-5 div.sk-parallel-item::after {content: \"\";width: 100%;border-bottom: 1px solid gray;flex-grow: 1;}#sk-container-id-5 div.sk-label:hover label.sk-toggleable__label {background-color: #d4ebff;}#sk-container-id-5 div.sk-serial::before {content: \"\";position: absolute;border-left: 1px solid gray;box-sizing: border-box;top: 0;bottom: 0;left: 50%;z-index: 0;}#sk-container-id-5 div.sk-serial {display: flex;flex-direction: column;align-items: center;background-color: white;padding-right: 0.2em;padding-left: 0.2em;position: relative;}#sk-container-id-5 div.sk-item {position: relative;z-index: 1;}#sk-container-id-5 div.sk-parallel {display: flex;align-items: stretch;justify-content: center;background-color: white;position: relative;}#sk-container-id-5 div.sk-item::before, #sk-container-id-5 div.sk-parallel-item::before {content: \"\";position: absolute;border-left: 1px solid gray;box-sizing: border-box;top: 0;bottom: 0;left: 50%;z-index: -1;}#sk-container-id-5 div.sk-parallel-item {display: flex;flex-direction: column;z-index: 1;position: relative;background-color: white;}#sk-container-id-5 div.sk-parallel-item:first-child::after {align-self: flex-end;width: 50%;}#sk-container-id-5 div.sk-parallel-item:last-child::after {align-self: flex-start;width: 50%;}#sk-container-id-5 div.sk-parallel-item:only-child::after {width: 0;}#sk-container-id-5 div.sk-dashed-wrapped {border: 1px dashed gray;margin: 0 0.4em 0.5em 0.4em;box-sizing: border-box;padding-bottom: 0.4em;background-color: white;}#sk-container-id-5 div.sk-label label {font-family: monospace;font-weight: bold;display: inline-block;line-height: 1.2em;}#sk-container-id-5 div.sk-label-container {text-align: center;}#sk-container-id-5 div.sk-container {/* jupyter's `normalize.less` sets `[hidden] { display: none; }` but bootstrap.min.css set `[hidden] { display: none !important; }` so we also need the `!important` here to be able to override the default hidden behavior on the sphinx rendered scikit-learn.org. See: https://github.com/scikit-learn/scikit-learn/issues/21755 */display: inline-block !important;position: relative;}#sk-container-id-5 div.sk-text-repr-fallback {display: none;}</style><div id=\"sk-container-id-5\" class=\"sk-top-container\"><div class=\"sk-text-repr-fallback\"><pre>SVC()</pre><b>In a Jupyter environment, please rerun this cell to show the HTML representation or trust the notebook. <br />On GitHub, the HTML representation is unable to render, please try loading this page with nbviewer.org.</b></div><div class=\"sk-container\" hidden><div class=\"sk-item\"><div class=\"sk-estimator sk-toggleable\"><input class=\"sk-toggleable__control sk-hidden--visually\" id=\"sk-estimator-id-5\" type=\"checkbox\" checked><label for=\"sk-estimator-id-5\" class=\"sk-toggleable__label sk-toggleable__label-arrow\">SVC</label><div class=\"sk-toggleable__content\"><pre>SVC()</pre></div></div></div></div></div>"
      ],
      "text/plain": [
       "SVC()"
      ]
     },
     "execution_count": 65,
     "metadata": {},
     "output_type": "execute_result"
    }
   ],
   "source": [
    "mymodel(svm)"
   ]
  },
  {
   "cell_type": "markdown",
   "id": "74209250",
   "metadata": {},
   "source": [
    "### Accuracy score on the train data"
   ]
  },
  {
   "cell_type": "code",
   "execution_count": 66,
   "id": "e7057f7a",
   "metadata": {},
   "outputs": [
    {
     "name": "stdout",
     "output_type": "stream",
     "text": [
      "Accuracy score of the training data :  97.6 %\n"
     ]
    }
   ],
   "source": [
    "\n",
    "y_pred = svm.predict(x_train)\n",
    "Train_Accuracy_svm = accuracy_score(y_pred, y_train)\n",
    "print('Accuracy score of the training data : ', round(Train_Accuracy_svm*100,2),\"%\")"
   ]
  },
  {
   "cell_type": "markdown",
   "id": "070b81f6",
   "metadata": {},
   "source": [
    "### Accuracy score on the test data"
   ]
  },
  {
   "cell_type": "code",
   "execution_count": 67,
   "id": "bf725cc3",
   "metadata": {},
   "outputs": [
    {
     "name": "stdout",
     "output_type": "stream",
     "text": [
      "Accuracy score of the test data :  99.66 %\n"
     ]
    }
   ],
   "source": [
    "\n",
    "y_pred_on_test_data = rf.predict(x_test)\n",
    "Test_Accuracy_svm = accuracy_score(y_pred_on_test_data, y_test)\n",
    "print('Accuracy score of the test data : ', round(Test_Accuracy_svm*100,2),\"%\")"
   ]
  },
  {
   "cell_type": "code",
   "execution_count": 68,
   "id": "2e8820c6",
   "metadata": {},
   "outputs": [],
   "source": [
    "ML_Model=['Logistic Regression','k-Nearest Neighbors Regression','Decision Tree','Random Forest',' SVM']\n",
    "\n",
    "Train_Accuracy=[Train_Accuracy_lr,Train_Accuracy_kn,Train_Accuracy_dt6,Train_Accuracy_rf,Train_Accuracy_svm]\n",
    "Train_ACC = [round(i,3) for i in Train_Accuracy]\n",
    "\n",
    "Test_Accuracy=[Test_Accuracy_lr,Test_Accuracy_kn,Test_Accuracy_dt6,Test_Accuracy_rf,Test_Accuracy_svm]\n",
    "Test_ACC = [round(i,3) for i in Test_Accuracy]\n",
    "\n"
   ]
  },
  {
   "cell_type": "code",
   "execution_count": 69,
   "id": "0c23d5d5",
   "metadata": {},
   "outputs": [],
   "source": [
    "#creating dataframe\n",
    "results = pd.DataFrame({'ML Model': ML_Model,\n",
    "                        'Train Accuracy':Train_Accuracy, \n",
    "                        'Test Accuracy': Test_Accuracy}, index=[1,2,3,4,5])"
   ]
  },
  {
   "cell_type": "code",
   "execution_count": 70,
   "id": "5cf51365",
   "metadata": {},
   "outputs": [
    {
     "data": {
      "text/html": [
       "<div>\n",
       "<style scoped>\n",
       "    .dataframe tbody tr th:only-of-type {\n",
       "        vertical-align: middle;\n",
       "    }\n",
       "\n",
       "    .dataframe tbody tr th {\n",
       "        vertical-align: top;\n",
       "    }\n",
       "\n",
       "    .dataframe thead th {\n",
       "        text-align: right;\n",
       "    }\n",
       "</style>\n",
       "<table border=\"1\" class=\"dataframe\">\n",
       "  <thead>\n",
       "    <tr style=\"text-align: right;\">\n",
       "      <th></th>\n",
       "      <th>ML Model</th>\n",
       "      <th>Train Accuracy</th>\n",
       "      <th>Test Accuracy</th>\n",
       "    </tr>\n",
       "  </thead>\n",
       "  <tbody>\n",
       "    <tr>\n",
       "      <th>1</th>\n",
       "      <td>Logistic Regression</td>\n",
       "      <td>0.971681</td>\n",
       "      <td>0.966491</td>\n",
       "    </tr>\n",
       "    <tr>\n",
       "      <th>2</th>\n",
       "      <td>k-Nearest Neighbors Regression</td>\n",
       "      <td>0.964703</td>\n",
       "      <td>0.953566</td>\n",
       "    </tr>\n",
       "    <tr>\n",
       "      <th>3</th>\n",
       "      <td>Decision Tree</td>\n",
       "      <td>0.985635</td>\n",
       "      <td>0.983724</td>\n",
       "    </tr>\n",
       "    <tr>\n",
       "      <th>4</th>\n",
       "      <td>Random Forest</td>\n",
       "      <td>1.000000</td>\n",
       "      <td>0.996649</td>\n",
       "    </tr>\n",
       "    <tr>\n",
       "      <th>5</th>\n",
       "      <td>SVM</td>\n",
       "      <td>0.975990</td>\n",
       "      <td>0.996649</td>\n",
       "    </tr>\n",
       "  </tbody>\n",
       "</table>\n",
       "</div>"
      ],
      "text/plain": [
       "                         ML Model  Train Accuracy  Test Accuracy\n",
       "1             Logistic Regression        0.971681       0.966491\n",
       "2  k-Nearest Neighbors Regression        0.964703       0.953566\n",
       "3                   Decision Tree        0.985635       0.983724\n",
       "4                   Random Forest        1.000000       0.996649\n",
       "5                             SVM        0.975990       0.996649"
      ]
     },
     "execution_count": 70,
     "metadata": {},
     "output_type": "execute_result"
    }
   ],
   "source": [
    "results"
   ]
  },
  {
   "cell_type": "code",
   "execution_count": 71,
   "id": "323a8b5a",
   "metadata": {},
   "outputs": [
    {
     "data": {
      "image/png": "[encoded data removed]",
      "text/plain": [
       "<Figure size 640x480 with 1 Axes>"
      ]
     },
     "metadata": {},
     "output_type": "display_data"
    }
   ],
   "source": [
    "cv_results = pd.DataFrame({\n",
    "    \"Cross Validation Means\": [0.968,0.954,0.984,0.997,0.997],\n",
    "    \"ML Models\": ['Logistic Regression','k-Nearest Neighbors Regression','Decision Tree','Random Forest',' SVM']})\n",
    "\n",
    "# Use sns.barplot with data as the DataFrame\n",
    "g = sns.barplot(x=\"Cross Validation Means\", y=\"ML Models\", data=cv_results)\n",
    "\n",
    "# Set labels and title\n",
    "g.set_xlabel(\"Mean Accuracy\")\n",
    "g.set_title(\"Cross Validation Scores\")\n",
    "\n",
    "# Show the plot\n",
    "plt.show()"
   ]
  },
  {
   "cell_type": "markdown",
   "id": "5411911c",
   "metadata": {},
   "source": [
    "# Conclusion"
   ]
  },
  {
   "cell_type": "raw",
   "id": "c2e21fdd",
   "metadata": {},
   "source": [
    "In this project, we build various models like logistic regression, knn classifier,decision tree classifier, Random forest classifier and svm classifier\n",
    "\n",
    "A DecisionTreeClassifiergives the highest accuracy score of 99.00 percent among all the ML Models.\n",
    "\n",
    "So for the Hyperthyroid prediction SVM is best model"
   ]
  },
  {
   "cell_type": "code",
   "execution_count": null,
   "id": "13694825-9b9b-4af4-b1cc-fb03e425ea45",
   "metadata": {},
   "outputs": [],
   "source": []
  }
 ],
 "metadata": {
  "kernelspec": {
   "display_name": "Python 3 (ipykernel)",
   "language": "python",
   "name": "python3"
  },
  "language_info": {
   "codemirror_mode": {
    "name": "ipython",
    "version": 3
   },
   "file_extension": ".py",
   "mimetype": "text/x-python",
   "name": "python",
   "nbconvert_exporter": "python",
   "pygments_lexer": "ipython3",
   "version": "3.11.7"
  }
 },
 "nbformat": 4,
 "nbformat_minor": 5
}
